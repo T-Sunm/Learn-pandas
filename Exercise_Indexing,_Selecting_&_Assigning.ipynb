{
  "metadata": {
    "kernelspec": {
      "display_name": "Python 3",
      "language": "python",
      "name": "python3"
    },
    "language_info": {
      "name": "python",
      "version": "3.10.13",
      "mimetype": "text/x-python",
      "codemirror_mode": {
        "name": "ipython",
        "version": 3
      },
      "pygments_lexer": "ipython3",
      "nbconvert_exporter": "python",
      "file_extension": ".py"
    },
    "kaggle": {
      "accelerator": "none",
      "dataSources": [
        {
          "sourceId": 1252,
          "sourceType": "datasetVersion",
          "datasetId": 655
        },
        {
          "sourceId": 3919,
          "sourceType": "datasetVersion",
          "datasetId": 2321
        },
        {
          "sourceId": 4877,
          "sourceType": "datasetVersion",
          "datasetId": 2894
        },
        {
          "sourceId": 5624,
          "sourceType": "datasetVersion",
          "datasetId": 3491
        },
        {
          "sourceId": 8172,
          "sourceType": "datasetVersion",
          "datasetId": 1442
        },
        {
          "sourceId": 13206,
          "sourceType": "datasetVersion",
          "datasetId": 9366
        },
        {
          "sourceId": 403916,
          "sourceType": "datasetVersion",
          "datasetId": 179555
        },
        {
          "sourceId": 466349,
          "sourceType": "datasetVersion",
          "datasetId": 4549
        },
        {
          "sourceId": 1151655,
          "sourceType": "datasetVersion",
          "datasetId": 2478
        },
        {
          "sourceId": 5438389,
          "sourceType": "datasetVersion",
          "datasetId": 10128
        }
      ],
      "isInternetEnabled": false,
      "language": "python",
      "sourceType": "notebook",
      "isGpuEnabled": false
    },
    "colab": {
      "name": "Exercise: Indexing, Selecting & Assigning",
      "provenance": [],
      "include_colab_link": true
    }
  },
  "nbformat_minor": 0,
  "nbformat": 4,
  "cells": [
    {
      "cell_type": "markdown",
      "metadata": {
        "id": "view-in-github",
        "colab_type": "text"
      },
      "source": [
        "<a href=\"https://colab.research.google.com/github/T-Sunm/Learn-pandas/blob/main/Exercise_Indexing%2C_Selecting_%26_Assigning.ipynb\" target=\"_parent\"><img src=\"https://colab.research.google.com/assets/colab-badge.svg\" alt=\"Open In Colab\"/></a>"
      ]
    },
    {
      "source": [
        "\n",
        "# IMPORTANT: RUN THIS CELL IN ORDER TO IMPORT YOUR KAGGLE DATA SOURCES\n",
        "# TO THE CORRECT LOCATION (/kaggle/input) IN YOUR NOTEBOOK,\n",
        "# THEN FEEL FREE TO DELETE THIS CELL.\n",
        "# NOTE: THIS NOTEBOOK ENVIRONMENT DIFFERS FROM KAGGLE'S PYTHON\n",
        "# ENVIRONMENT SO THERE MAY BE MISSING LIBRARIES USED BY YOUR\n",
        "# NOTEBOOK.\n",
        "\n",
        "import os\n",
        "import sys\n",
        "from tempfile import NamedTemporaryFile\n",
        "from urllib.request import urlopen\n",
        "from urllib.parse import unquote, urlparse\n",
        "from urllib.error import HTTPError\n",
        "from zipfile import ZipFile\n",
        "import tarfile\n",
        "import shutil\n",
        "\n",
        "CHUNK_SIZE = 40960\n",
        "DATA_SOURCE_MAPPING = 'pitchfork-data:https%3A%2F%2Fstorage.googleapis.com%2Fkaggle-data-sets%2F655%2F1252%2Fbundle%2Farchive.zip%3FX-Goog-Algorithm%3DGOOG4-RSA-SHA256%26X-Goog-Credential%3Dgcp-kaggle-com%2540kaggle-161607.iam.gserviceaccount.com%252F20240705%252Fauto%252Fstorage%252Fgoog4_request%26X-Goog-Date%3D20240705T160616Z%26X-Goog-Expires%3D259200%26X-Goog-SignedHeaders%3Dhost%26X-Goog-Signature%3D92b2bbe0a4b93d953d07a9467c25f605c6c3a2e7cbf34bee64b642e9a201412789edcfa8c07464cf6d58f58a6fe552ebe5866ee1e3265dd335c4a0ade4c15c975a97305020f283e25455037f4805d9f7da1009f6cd2fed40fc84e2f0ab49a9249e4aa280c70a167d37a7788b095aaf07f6cca3f5631bd110f456e731617016f2e86274d9292b9a1f64d263ff1b60f0e65860584c06cd13f3c76979cb63f520a21b93a9b5bd3e81d33eaaf5c56c7beee93ea548e1ba6d55b090e79dcfae94ef0c60ac25994eda4f85b842a9feccfdb3ac2aabeb3925e42b318f8a23d7c3f616b1e2237ec66344ccc669cd3d573e0601d679d655583067fd6a0bb7ac5a9f1fa4d2,chess:https%3A%2F%2Fstorage.googleapis.com%2Fkaggle-data-sets%2F2321%2F3919%2Fbundle%2Farchive.zip%3FX-Goog-Algorithm%3DGOOG4-RSA-SHA256%26X-Goog-Credential%3Dgcp-kaggle-com%2540kaggle-161607.iam.gserviceaccount.com%252F20240705%252Fauto%252Fstorage%252Fgoog4_request%26X-Goog-Date%3D20240705T160616Z%26X-Goog-Expires%3D259200%26X-Goog-SignedHeaders%3Dhost%26X-Goog-Signature%3D91e2754ef3bc25b5f2ee886ad1c4a385b8b4116f3ded2f98c1b2e98ffa197c9947e71d583aefd06b9a77b7697a58378957a88e03a1d40cabb5a860a25fcd1cc67f2e3ce9cb01caf537a8acec3603a7255d3b3d3504f30bace0a0a2d1e7dcfcc3913528ccc7b15711d99844c8e9f2be8d1471b6a5937862871fc804dbe8a7a4af9938684a7d4c36c9ed80e5a88503456d881106e54b49a6a88e20813fb08a29ae1063d7f7d1417977f87148242787a5223c98b7b12ec3e0008c9393a75d43a1c8a759cd0127b95e235fca9c2d5c07802c52edecab6b0f9f6122e292b0b475ac578ac6aaa701a22c88ccbed5976f843e9f19908ddc2864991ffaa6feaafb27fb99,kepler-exoplanet-search-results:https%3A%2F%2Fstorage.googleapis.com%2Fkaggle-data-sets%2F2894%2F4877%2Fbundle%2Farchive.zip%3FX-Goog-Algorithm%3DGOOG4-RSA-SHA256%26X-Goog-Credential%3Dgcp-kaggle-com%2540kaggle-161607.iam.gserviceaccount.com%252F20240705%252Fauto%252Fstorage%252Fgoog4_request%26X-Goog-Date%3D20240705T160616Z%26X-Goog-Expires%3D259200%26X-Goog-SignedHeaders%3Dhost%26X-Goog-Signature%3Dbb37a8e6d3cb261a7ea51e7597d34e7a570d2df598f679e98693ce8d6a8c7bae248fbd517301f17584c38d4462e442364a2d203c0dcf22a9880bd9b3fc7af171214be3befff30d2404bd6b51be7696a5ececb38d7bbc8ddd4129306e496867d3b02360387be554543dff0884880f52614a84364f57cbead7355ec8ea3bfc2ae49071a32d3f600a2db9a3f197b43f8ae49f3e399b9170a9fc612fc313a122d2bbaf243798f43c7134dc634552bd6d9822f98c558a75e7490361a6dc71e552d1f93c40b3d112aa05ab03811d78d988df951ff13305fc73359e7a7aa156382fcb6e33fe86904ee1db00c291051dbe18e4d11a53b9bcca152abe48efa27f765ce9e8,things-on-reddit:https%3A%2F%2Fstorage.googleapis.com%2Fkaggle-data-sets%2F3491%2F5624%2Fbundle%2Farchive.zip%3FX-Goog-Algorithm%3DGOOG4-RSA-SHA256%26X-Goog-Credential%3Dgcp-kaggle-com%2540kaggle-161607.iam.gserviceaccount.com%252F20240705%252Fauto%252Fstorage%252Fgoog4_request%26X-Goog-Date%3D20240705T160616Z%26X-Goog-Expires%3D259200%26X-Goog-SignedHeaders%3Dhost%26X-Goog-Signature%3D8a2f783b08571b90b5f475f023016544c0d310256e041d3b1a909ff92a6727f235bedc57fe9578755b63fff1773b69a501b24b15fc7bc318cbaf561c2416c11955f8e6400720c32e9d89d8a7c9cb0263e2090a2f7bdc5f3efc0b291d5131a5b3eaa8b212655276836d90576251cdb4506bed9f9d00be489e1e23e6dfaeec64e4f29cc0771bd6e77c0bcc4da1d3a3c5ddb769554e4db11df401ffdb983bd5bbb2bb09638205e52cc681a69a3ed036f2366199e33f4ba4dbaf4badc8fa1bc03a5075a43107e355a35e3fa8b91276d49927fef1a67c15677e222f0ad770ae1cfa5ffa88f3bdeeb60b948dcb7e420df2999026305539d26f6a9235fef8754615fca5,wine-reviews:https%3A%2F%2Fstorage.googleapis.com%2Fkaggle-data-sets%2F1442%2F8172%2Fbundle%2Farchive.zip%3FX-Goog-Algorithm%3DGOOG4-RSA-SHA256%26X-Goog-Credential%3Dgcp-kaggle-com%2540kaggle-161607.iam.gserviceaccount.com%252F20240705%252Fauto%252Fstorage%252Fgoog4_request%26X-Goog-Date%3D20240705T160617Z%26X-Goog-Expires%3D259200%26X-Goog-SignedHeaders%3Dhost%26X-Goog-Signature%3D9203c92a2265cf5af0f1f9a067d619e1d5929e16f8c8812886dfbe60eb1c540ef636de8c0da51010f4e3589bc38cd79594ba03603fcd2b5b4e8fb0bc136a751d57c8987427e1932274fa8ace20887a20dd990b30c321bf56107dfbde38a01e48bfa9aadb062259aa95b904735c0dcf1e26d9edde8f3fba4097c7cc40b181660efcef8d34697882741da92c06e3e99ff48683b58ef5ca0f1f20a89c1f02c42a5a1495d647f2cbe9a83a9eeeef0cc592d0cc42224fe2c1a04d18d638b22f6679c1b863c96e87c77defe5d32d63bab9ddd98a68d3fa2da2583328a349ea0b399f8a6817c4c2eb8f3d102e8ca4d1f88b4d617d7be2a70c29d996fa540cf5bce92cdd,ramen-ratings:https%3A%2F%2Fstorage.googleapis.com%2Fkaggle-data-sets%2F9366%2F13206%2Fbundle%2Farchive.zip%3FX-Goog-Algorithm%3DGOOG4-RSA-SHA256%26X-Goog-Credential%3Dgcp-kaggle-com%2540kaggle-161607.iam.gserviceaccount.com%252F20240705%252Fauto%252Fstorage%252Fgoog4_request%26X-Goog-Date%3D20240705T160617Z%26X-Goog-Expires%3D259200%26X-Goog-SignedHeaders%3Dhost%26X-Goog-Signature%3D2e71f4e34dd008598d51a43f3a4d6a9162a4d194c5447dedbf9fd142445042fe135a3dac1228ba7c70660679e26ab7523d806658f3f47281f4ef9538f4f396023ba810f3247ce57e1f688095ff97d8c52bd466da656647547426cd485ca14fa0503d3d17ada721f37793bb5c52ce48f8e540b3a4d9cb821ae8ec606d587287587190fc8b060d97da9774dc941531faac8e86d353d5335cbd6fa99a63caafc54a9c4fec41aa82f9e134ab86f95e68d692255096da2afadd8fb370de3e99b376a40200a0fc634cac20040a4a3f958c1c685f650c3d4a2d5a8d58eabd36da01db374b46843649427341d8d72d11f378448cf980b9d85a3c27b849d94d931bb32ff0,powerlifting-database:https%3A%2F%2Fstorage.googleapis.com%2Fkaggle-data-sets%2F179555%2F403916%2Fbundle%2Farchive.zip%3FX-Goog-Algorithm%3DGOOG4-RSA-SHA256%26X-Goog-Credential%3Dgcp-kaggle-com%2540kaggle-161607.iam.gserviceaccount.com%252F20240705%252Fauto%252Fstorage%252Fgoog4_request%26X-Goog-Date%3D20240705T160617Z%26X-Goog-Expires%3D259200%26X-Goog-SignedHeaders%3Dhost%26X-Goog-Signature%3D073302a4513162d2f363ec2823f6c11338f4788c8dce252b5ce9cc398b3bceaac0e29ee01b06ce0eef764eae5f6fbffd5f9813d4f05a45edd12fae8e28a919f368a8cf8b78074aa4e4dbfb22b435bff3613dc2f56f662057acdf0c90ace5925d658f8f8dfab1392c4422b813243f46fe49926a0790741428793dc2f15fa7a077172cb8cb23b9dc7c89bc294e1310f1d53d16790b5b39bbe61c853f5965c8443d7b1ce79bd9a86147a857f4ff0d8b5e4bf4d2f1042a15b47cd9100922721e65566ccc438fe288f375e6ce3af30447fe73f9e6933789cfe6292bfa8154803627e9f62ef64e61f1c4234f862d305a5f3d77ed7c8351922c340f39f57e65e9dbe822,youtube-new:https%3A%2F%2Fstorage.googleapis.com%2Fkaggle-data-sets%2F4549%2F466349%2Fbundle%2Farchive.zip%3FX-Goog-Algorithm%3DGOOG4-RSA-SHA256%26X-Goog-Credential%3Dgcp-kaggle-com%2540kaggle-161607.iam.gserviceaccount.com%252F20240705%252Fauto%252Fstorage%252Fgoog4_request%26X-Goog-Date%3D20240705T160617Z%26X-Goog-Expires%3D259200%26X-Goog-SignedHeaders%3Dhost%26X-Goog-Signature%3D461cd6571c61230c16a5616e3c5b682e68484b10049373ce8e67b0227aee9cc878ce9b67bba1b7d93d0c024837242e0bf5f978164f6f2da5130d5268d7fbf8d62da47e2d0acdf8850b4c0d719d18c60770804001de9eeae70aee9f42a2fccc690e623659b0735cffc12d17ae0172cb4bb0e0459662e08621606aaae517f508afd58235fbfe0cf3746889db731b5e2ac7cf51c5849af87a64651b9c637b6c8ce3380c39e6b2362bf9d005a338632fd896ec9ccf1869e9dae66bf87fbde6f2b34fec744c17430d3404353bdeafbd2da3451641b6bae27c7f97738df522d6d1aa5dd4c5e86c8159ce270535bf35c639167d28bd90bf89c9e97bcc1d9ba6995e1e77,188-million-us-wildfires:https%3A%2F%2Fstorage.googleapis.com%2Fkaggle-data-sets%2F2478%2F1151655%2Fbundle%2Farchive.zip%3FX-Goog-Algorithm%3DGOOG4-RSA-SHA256%26X-Goog-Credential%3Dgcp-kaggle-com%2540kaggle-161607.iam.gserviceaccount.com%252F20240705%252Fauto%252Fstorage%252Fgoog4_request%26X-Goog-Date%3D20240705T160617Z%26X-Goog-Expires%3D259200%26X-Goog-SignedHeaders%3Dhost%26X-Goog-Signature%3D32c1b8325a38b9100ecaa00fdc64d5bc7abe517a349f6f99c9b096c9316ddedc3206e39dd93bb18af55ae2f7b7d9813c925f7a5c1a326d25d4e9770cf9b30ede7c4757f78347d9abb7bdf51c60063e6ec3e252d71dc9fb9b06c6861947fda47aeb1aa9cffaac3efcadef151d8ba96f65649da81af97b8999d1bddac0e205a0ffc1b1856f58334443d0f9d48d9f5022a0355e3d6b09d1deb2653c8c0318ac5eaa83f2c4ceffd67ba02f0f861b1fb1f847805d4a294d61e009824a4e8ce7f6f7e3d301502731861bc47a40091af8016655688ea1844ac13549a8ec7293a3e69c03fef131bad45c73fe99ed202de0d13534f98856900ff8a27ad88b56b2bc0dbc67,publicassistance:https%3A%2F%2Fstorage.googleapis.com%2Fkaggle-data-sets%2F10128%2F5438389%2Fbundle%2Farchive.zip%3FX-Goog-Algorithm%3DGOOG4-RSA-SHA256%26X-Goog-Credential%3Dgcp-kaggle-com%2540kaggle-161607.iam.gserviceaccount.com%252F20240705%252Fauto%252Fstorage%252Fgoog4_request%26X-Goog-Date%3D20240705T160617Z%26X-Goog-Expires%3D259200%26X-Goog-SignedHeaders%3Dhost%26X-Goog-Signature%3D0a542ba418a99b8122b348d51a2726dad94e10e0acb17b0e1cc69b3ccd777e83624edbe0aa17b39877961b47946607cd8084cc3f669c8a08a5800fd195cdcc116b138829ac651d213a32f15b49e919cfa4408b712f47baac04a92859b99986e7343bddcdddac1f8d6e02cef517d36b9b103d15ac0c7d15846489d0fd46071c40f73315d37b24cb7372416c994cd3e8e2acdd8444df3eccd3d11fa18697d373daa1699358876f52081b14aeee98bd749572a712734312b930d2309c1531738f2f394fa9334df4423fb84098551059cdeb11e138a5b176f9375c613964d85b75c8b844bbb0aa47bfdd0edc8e72491fd70f703d144b4a9d3effdeef14bc87f152b8'\n",
        "\n",
        "KAGGLE_INPUT_PATH='/kaggle/input'\n",
        "KAGGLE_WORKING_PATH='/kaggle/working'\n",
        "KAGGLE_SYMLINK='kaggle'\n",
        "\n",
        "!umount /kaggle/input/ 2> /dev/null\n",
        "shutil.rmtree('/kaggle/input', ignore_errors=True)\n",
        "os.makedirs(KAGGLE_INPUT_PATH, 0o777, exist_ok=True)\n",
        "os.makedirs(KAGGLE_WORKING_PATH, 0o777, exist_ok=True)\n",
        "\n",
        "try:\n",
        "  os.symlink(KAGGLE_INPUT_PATH, os.path.join(\"..\", 'input'), target_is_directory=True)\n",
        "except FileExistsError:\n",
        "  pass\n",
        "try:\n",
        "  os.symlink(KAGGLE_WORKING_PATH, os.path.join(\"..\", 'working'), target_is_directory=True)\n",
        "except FileExistsError:\n",
        "  pass\n",
        "\n",
        "for data_source_mapping in DATA_SOURCE_MAPPING.split(','):\n",
        "    directory, download_url_encoded = data_source_mapping.split(':')\n",
        "    download_url = unquote(download_url_encoded)\n",
        "    filename = urlparse(download_url).path\n",
        "    destination_path = os.path.join(KAGGLE_INPUT_PATH, directory)\n",
        "    try:\n",
        "        with urlopen(download_url) as fileres, NamedTemporaryFile() as tfile:\n",
        "            total_length = fileres.headers['content-length']\n",
        "            print(f'Downloading {directory}, {total_length} bytes compressed')\n",
        "            dl = 0\n",
        "            data = fileres.read(CHUNK_SIZE)\n",
        "            while len(data) > 0:\n",
        "                dl += len(data)\n",
        "                tfile.write(data)\n",
        "                done = int(50 * dl / int(total_length))\n",
        "                sys.stdout.write(f\"\\r[{'=' * done}{' ' * (50-done)}] {dl} bytes downloaded\")\n",
        "                sys.stdout.flush()\n",
        "                data = fileres.read(CHUNK_SIZE)\n",
        "            if filename.endswith('.zip'):\n",
        "              with ZipFile(tfile) as zfile:\n",
        "                zfile.extractall(destination_path)\n",
        "            else:\n",
        "              with tarfile.open(tfile.name) as tarfile:\n",
        "                tarfile.extractall(destination_path)\n",
        "            print(f'\\nDownloaded and uncompressed: {directory}')\n",
        "    except HTTPError as e:\n",
        "        print(f'Failed to load (likely expired) {download_url} to path {destination_path}')\n",
        "        continue\n",
        "    except OSError as e:\n",
        "        print(f'Failed to load {download_url} to path {destination_path}')\n",
        "        continue\n",
        "\n",
        "print('Data source import complete.')\n"
      ],
      "metadata": {
        "id": "J44YbB4ypGlP"
      },
      "cell_type": "code",
      "outputs": [],
      "execution_count": null
    },
    {
      "cell_type": "markdown",
      "source": [
        "**This notebook is an exercise in the [Pandas](https://www.kaggle.com/learn/pandas) course.  You can reference the tutorial at [this link](https://www.kaggle.com/residentmario/indexing-selecting-assigning).**\n",
        "\n",
        "---\n"
      ],
      "metadata": {
        "id": "Ig3tEMenpGlS"
      }
    },
    {
      "cell_type": "markdown",
      "source": [
        "# Introduction\n",
        "\n",
        "In this set of exercises we will work with the [Wine Reviews dataset](https://www.kaggle.com/zynicide/wine-reviews)."
      ],
      "metadata": {
        "id": "ES7yr8LopGlT"
      }
    },
    {
      "cell_type": "markdown",
      "source": [
        "Run the following cell to load your data and some utility functions (including code to check your answers)."
      ],
      "metadata": {
        "id": "s-4VkDWupGlT"
      }
    },
    {
      "cell_type": "code",
      "source": [
        "import pandas as pd\n",
        "\n",
        "reviews = pd.read_csv(\"../input/wine-reviews/winemag-data-130k-v2.csv\", index_col=0)\n",
        "pd.set_option(\"display.max_rows\", 5)\n",
        "\n",
        "from learntools.core import binder; binder.bind(globals())\n",
        "from learntools.pandas.indexing_selecting_and_assigning import *\n",
        "print(\"Setup complete.\")"
      ],
      "metadata": {
        "execution": {
          "iopub.status.busy": "2024-07-05T15:38:09.559121Z",
          "iopub.execute_input": "2024-07-05T15:38:09.559618Z",
          "iopub.status.idle": "2024-07-05T15:38:13.484725Z",
          "shell.execute_reply.started": "2024-07-05T15:38:09.559584Z",
          "shell.execute_reply": "2024-07-05T15:38:13.48344Z"
        },
        "trusted": true,
        "id": "TvZsEzrvpGlT",
        "outputId": "af7c58af-176a-43b1-e7ea-8e6e93c3c97e"
      },
      "execution_count": null,
      "outputs": [
        {
          "name": "stdout",
          "text": "Setup complete.\n",
          "output_type": "stream"
        }
      ]
    },
    {
      "cell_type": "markdown",
      "source": [
        "Look at an overview of your data by running the following line."
      ],
      "metadata": {
        "id": "uRXi5vpnpGlU"
      }
    },
    {
      "cell_type": "code",
      "source": [
        "reviews.head()"
      ],
      "metadata": {
        "execution": {
          "iopub.status.busy": "2024-07-05T15:38:16.232329Z",
          "iopub.execute_input": "2024-07-05T15:38:16.232795Z",
          "iopub.status.idle": "2024-07-05T15:38:16.263565Z",
          "shell.execute_reply.started": "2024-07-05T15:38:16.23276Z",
          "shell.execute_reply": "2024-07-05T15:38:16.262241Z"
        },
        "trusted": true,
        "id": "CUsxHISBpGlU",
        "outputId": "23d03546-073a-40f6-dbf3-c1d4cce7c99e"
      },
      "execution_count": null,
      "outputs": [
        {
          "execution_count": 2,
          "output_type": "execute_result",
          "data": {
            "text/plain": "    country                                        description  \\\n0     Italy  Aromas include tropical fruit, broom, brimston...   \n1  Portugal  This is ripe and fruity, a wine that is smooth...   \n2        US  Tart and snappy, the flavors of lime flesh and...   \n3        US  Pineapple rind, lemon pith and orange blossom ...   \n4        US  Much like the regular bottling from 2012, this...   \n\n                          designation  points  price           province  \\\n0                        Vulkà Bianco      87    NaN  Sicily & Sardinia   \n1                            Avidagos      87   15.0              Douro   \n2                                 NaN      87   14.0             Oregon   \n3                Reserve Late Harvest      87   13.0           Michigan   \n4  Vintner's Reserve Wild Child Block      87   65.0             Oregon   \n\n              region_1           region_2         taster_name  \\\n0                 Etna                NaN       Kerin O’Keefe   \n1                  NaN                NaN          Roger Voss   \n2    Willamette Valley  Willamette Valley        Paul Gregutt   \n3  Lake Michigan Shore                NaN  Alexander Peartree   \n4    Willamette Valley  Willamette Valley        Paul Gregutt   \n\n  taster_twitter_handle                                              title  \\\n0          @kerinokeefe                  Nicosia 2013 Vulkà Bianco  (Etna)   \n1            @vossroger      Quinta dos Avidagos 2011 Avidagos Red (Douro)   \n2           @paulgwine       Rainstorm 2013 Pinot Gris (Willamette Valley)   \n3                   NaN  St. Julian 2013 Reserve Late Harvest Riesling ...   \n4           @paulgwine   Sweet Cheeks 2012 Vintner's Reserve Wild Child...   \n\n          variety               winery  \n0     White Blend              Nicosia  \n1  Portuguese Red  Quinta dos Avidagos  \n2      Pinot Gris            Rainstorm  \n3        Riesling           St. Julian  \n4      Pinot Noir         Sweet Cheeks  ",
            "text/html": "<div>\n<style scoped>\n    .dataframe tbody tr th:only-of-type {\n        vertical-align: middle;\n    }\n\n    .dataframe tbody tr th {\n        vertical-align: top;\n    }\n\n    .dataframe thead th {\n        text-align: right;\n    }\n</style>\n<table border=\"1\" class=\"dataframe\">\n  <thead>\n    <tr style=\"text-align: right;\">\n      <th></th>\n      <th>country</th>\n      <th>description</th>\n      <th>designation</th>\n      <th>points</th>\n      <th>price</th>\n      <th>province</th>\n      <th>region_1</th>\n      <th>region_2</th>\n      <th>taster_name</th>\n      <th>taster_twitter_handle</th>\n      <th>title</th>\n      <th>variety</th>\n      <th>winery</th>\n    </tr>\n  </thead>\n  <tbody>\n    <tr>\n      <th>0</th>\n      <td>Italy</td>\n      <td>Aromas include tropical fruit, broom, brimston...</td>\n      <td>Vulkà Bianco</td>\n      <td>87</td>\n      <td>NaN</td>\n      <td>Sicily &amp; Sardinia</td>\n      <td>Etna</td>\n      <td>NaN</td>\n      <td>Kerin O’Keefe</td>\n      <td>@kerinokeefe</td>\n      <td>Nicosia 2013 Vulkà Bianco  (Etna)</td>\n      <td>White Blend</td>\n      <td>Nicosia</td>\n    </tr>\n    <tr>\n      <th>1</th>\n      <td>Portugal</td>\n      <td>This is ripe and fruity, a wine that is smooth...</td>\n      <td>Avidagos</td>\n      <td>87</td>\n      <td>15.0</td>\n      <td>Douro</td>\n      <td>NaN</td>\n      <td>NaN</td>\n      <td>Roger Voss</td>\n      <td>@vossroger</td>\n      <td>Quinta dos Avidagos 2011 Avidagos Red (Douro)</td>\n      <td>Portuguese Red</td>\n      <td>Quinta dos Avidagos</td>\n    </tr>\n    <tr>\n      <th>2</th>\n      <td>US</td>\n      <td>Tart and snappy, the flavors of lime flesh and...</td>\n      <td>NaN</td>\n      <td>87</td>\n      <td>14.0</td>\n      <td>Oregon</td>\n      <td>Willamette Valley</td>\n      <td>Willamette Valley</td>\n      <td>Paul Gregutt</td>\n      <td>@paulgwine</td>\n      <td>Rainstorm 2013 Pinot Gris (Willamette Valley)</td>\n      <td>Pinot Gris</td>\n      <td>Rainstorm</td>\n    </tr>\n    <tr>\n      <th>3</th>\n      <td>US</td>\n      <td>Pineapple rind, lemon pith and orange blossom ...</td>\n      <td>Reserve Late Harvest</td>\n      <td>87</td>\n      <td>13.0</td>\n      <td>Michigan</td>\n      <td>Lake Michigan Shore</td>\n      <td>NaN</td>\n      <td>Alexander Peartree</td>\n      <td>NaN</td>\n      <td>St. Julian 2013 Reserve Late Harvest Riesling ...</td>\n      <td>Riesling</td>\n      <td>St. Julian</td>\n    </tr>\n    <tr>\n      <th>4</th>\n      <td>US</td>\n      <td>Much like the regular bottling from 2012, this...</td>\n      <td>Vintner's Reserve Wild Child Block</td>\n      <td>87</td>\n      <td>65.0</td>\n      <td>Oregon</td>\n      <td>Willamette Valley</td>\n      <td>Willamette Valley</td>\n      <td>Paul Gregutt</td>\n      <td>@paulgwine</td>\n      <td>Sweet Cheeks 2012 Vintner's Reserve Wild Child...</td>\n      <td>Pinot Noir</td>\n      <td>Sweet Cheeks</td>\n    </tr>\n  </tbody>\n</table>\n</div>"
          },
          "metadata": {}
        }
      ]
    },
    {
      "cell_type": "markdown",
      "source": [
        "# Exercises"
      ],
      "metadata": {
        "id": "PBU_ZSMipGlU"
      }
    },
    {
      "cell_type": "markdown",
      "source": [
        "## 1.\n",
        "\n",
        "Select the `description` column from `reviews` and assign the result to the variable `desc`."
      ],
      "metadata": {
        "id": "9dXpF421pGlV"
      }
    },
    {
      "cell_type": "code",
      "source": [
        "# Your code here\n",
        "desc = reviews['description']\n",
        "\n",
        "# Check your answer\n",
        "q1.check()"
      ],
      "metadata": {
        "execution": {
          "iopub.status.busy": "2024-07-05T15:46:36.096304Z",
          "iopub.execute_input": "2024-07-05T15:46:36.096769Z",
          "iopub.status.idle": "2024-07-05T15:46:36.107881Z",
          "shell.execute_reply.started": "2024-07-05T15:46:36.096736Z",
          "shell.execute_reply": "2024-07-05T15:46:36.106594Z"
        },
        "trusted": true,
        "id": "PbexgnFrpGlV",
        "outputId": "c34490cf-20b5-4c15-b249-413ce786d9a3"
      },
      "execution_count": null,
      "outputs": [
        {
          "output_type": "display_data",
          "data": {
            "text/plain": "<IPython.core.display.Javascript object>",
            "application/javascript": "parent.postMessage({\"jupyterEvent\": \"custom.exercise_interaction\", \"data\": {\"outcomeType\": 1, \"valueTowardsCompletion\": 0.1111111111111111, \"interactionType\": 1, \"questionType\": 1, \"questionId\": \"1_SelectDescCol\", \"learnToolsVersion\": \"0.3.4\", \"failureMessage\": \"\", \"exceptionClass\": \"\", \"trace\": \"\"}}, \"*\")"
          },
          "metadata": {}
        },
        {
          "output_type": "display_data",
          "data": {
            "text/plain": "Correct",
            "text/markdown": "<span style=\"color:#33cc33\">Correct</span>"
          },
          "metadata": {}
        }
      ]
    },
    {
      "cell_type": "markdown",
      "source": [
        "Follow-up question: what type of object is `desc`? If you're not sure, you can check by calling Python's `type` function: `type(desc)`."
      ],
      "metadata": {
        "id": "U0DB47ukpGlV"
      }
    },
    {
      "cell_type": "code",
      "source": [
        "#q1.hint()\n",
        "#q1.solution()"
      ],
      "metadata": {
        "id": "Uu6gWYPIpGlV"
      },
      "execution_count": null,
      "outputs": []
    },
    {
      "cell_type": "markdown",
      "source": [
        "## 2.\n",
        "\n",
        "Select the first value from the description column of `reviews`, assigning it to variable `first_description`."
      ],
      "metadata": {
        "id": "8IWbIORCpGlV"
      }
    },
    {
      "cell_type": "code",
      "source": [
        "first_description = reviews.description.iloc[0]\n",
        "# Check your answer\n",
        "q2.check()\n",
        "first_description"
      ],
      "metadata": {
        "execution": {
          "iopub.status.busy": "2024-07-05T15:47:11.200663Z",
          "iopub.execute_input": "2024-07-05T15:47:11.201066Z",
          "iopub.status.idle": "2024-07-05T15:47:11.215161Z",
          "shell.execute_reply.started": "2024-07-05T15:47:11.201015Z",
          "shell.execute_reply": "2024-07-05T15:47:11.213656Z"
        },
        "trusted": true,
        "id": "_e7Hg4jcpGlV",
        "outputId": "4d83ea7a-5fd8-480c-b331-0ae53a97da2a"
      },
      "execution_count": null,
      "outputs": [
        {
          "output_type": "display_data",
          "data": {
            "text/plain": "<IPython.core.display.Javascript object>",
            "application/javascript": "parent.postMessage({\"jupyterEvent\": \"custom.exercise_interaction\", \"data\": {\"outcomeType\": 1, \"valueTowardsCompletion\": 0.1111111111111111, \"interactionType\": 1, \"questionType\": 1, \"questionId\": \"2_FirstDesc\", \"learnToolsVersion\": \"0.3.4\", \"failureMessage\": \"\", \"exceptionClass\": \"\", \"trace\": \"\"}}, \"*\")"
          },
          "metadata": {}
        },
        {
          "output_type": "display_data",
          "data": {
            "text/plain": "Correct: \n\n\n```python\nfirst_description = reviews.description.iloc[0]\n```\nNote that while this is the preferred way to obtain the entry in the DataFrame, many other options will return a valid result, such as `reviews.description.loc[0]`, `reviews.description[0]`, and more!  ",
            "text/markdown": "<span style=\"color:#33cc33\">Correct:</span> \n\n\n```python\nfirst_description = reviews.description.iloc[0]\n```\nNote that while this is the preferred way to obtain the entry in the DataFrame, many other options will return a valid result, such as `reviews.description.loc[0]`, `reviews.description[0]`, and more!  \n"
          },
          "metadata": {}
        },
        {
          "execution_count": 12,
          "output_type": "execute_result",
          "data": {
            "text/plain": "\"Aromas include tropical fruit, broom, brimstone and dried herb. The palate isn't overly expressive, offering unripened apple, citrus and dried sage alongside brisk acidity.\""
          },
          "metadata": {}
        }
      ]
    },
    {
      "cell_type": "code",
      "source": [
        "#q2.hint()\n",
        "#q2.solution()"
      ],
      "metadata": {
        "id": "PUHmSo9SpGlW"
      },
      "execution_count": null,
      "outputs": []
    },
    {
      "cell_type": "markdown",
      "source": [
        "## 3.\n",
        "\n",
        "Select the first row of data (the first record) from `reviews`, assigning it to the variable `first_row`."
      ],
      "metadata": {
        "id": "HtP6i3EXpGlW"
      }
    },
    {
      "cell_type": "code",
      "source": [
        "first_row = reviews.iloc[0]\n",
        "\n",
        "# Check your answer\n",
        "q3.check()\n",
        "first_row"
      ],
      "metadata": {
        "execution": {
          "iopub.status.busy": "2024-07-05T15:47:30.456237Z",
          "iopub.execute_input": "2024-07-05T15:47:30.456733Z",
          "iopub.status.idle": "2024-07-05T15:47:30.473986Z",
          "shell.execute_reply.started": "2024-07-05T15:47:30.456696Z",
          "shell.execute_reply": "2024-07-05T15:47:30.472751Z"
        },
        "trusted": true,
        "id": "JO2WNZ6PpGlW",
        "outputId": "0818f723-019d-45e5-f64a-a68707608890"
      },
      "execution_count": null,
      "outputs": [
        {
          "output_type": "display_data",
          "data": {
            "text/plain": "<IPython.core.display.Javascript object>",
            "application/javascript": "parent.postMessage({\"jupyterEvent\": \"custom.exercise_interaction\", \"data\": {\"outcomeType\": 1, \"valueTowardsCompletion\": 0.1111111111111111, \"interactionType\": 1, \"questionType\": 1, \"questionId\": \"3_FirstRow\", \"learnToolsVersion\": \"0.3.4\", \"failureMessage\": \"\", \"exceptionClass\": \"\", \"trace\": \"\"}}, \"*\")"
          },
          "metadata": {}
        },
        {
          "output_type": "display_data",
          "data": {
            "text/plain": "Correct",
            "text/markdown": "<span style=\"color:#33cc33\">Correct</span>"
          },
          "metadata": {}
        },
        {
          "execution_count": 13,
          "output_type": "execute_result",
          "data": {
            "text/plain": "country                                                    Italy\ndescription    Aromas include tropical fruit, broom, brimston...\n                                     ...                        \nvariety                                              White Blend\nwinery                                                   Nicosia\nName: 0, Length: 13, dtype: object"
          },
          "metadata": {}
        }
      ]
    },
    {
      "cell_type": "code",
      "source": [
        "#q3.hint()\n",
        "#q3.solution()"
      ],
      "metadata": {
        "id": "-45A-MdnpGlW"
      },
      "execution_count": null,
      "outputs": []
    },
    {
      "cell_type": "markdown",
      "source": [
        "## 4.\n",
        "\n",
        "Select the first 10 values from the `description` column in `reviews`, assigning the result to variable `first_descriptions`.\n",
        "\n",
        "Hint: format your output as a pandas Series."
      ],
      "metadata": {
        "id": "c4Du9pmmpGlW"
      }
    },
    {
      "cell_type": "code",
      "source": [
        "first_descriptions = reviews.loc[:9 , 'description']\n",
        "\n",
        "# Check your answer\n",
        "q4.check()\n",
        "first_descriptions"
      ],
      "metadata": {
        "execution": {
          "iopub.status.busy": "2024-07-05T15:50:19.313693Z",
          "iopub.execute_input": "2024-07-05T15:50:19.314148Z",
          "iopub.status.idle": "2024-07-05T15:50:19.33097Z",
          "shell.execute_reply.started": "2024-07-05T15:50:19.314119Z",
          "shell.execute_reply": "2024-07-05T15:50:19.329548Z"
        },
        "trusted": true,
        "id": "3SPfJRKCpGlW",
        "outputId": "886d60b2-ba76-4ccb-80c1-5362deae23a0"
      },
      "execution_count": null,
      "outputs": [
        {
          "output_type": "display_data",
          "data": {
            "text/plain": "<IPython.core.display.Javascript object>",
            "application/javascript": "parent.postMessage({\"jupyterEvent\": \"custom.exercise_interaction\", \"data\": {\"outcomeType\": 1, \"valueTowardsCompletion\": 0.1111111111111111, \"interactionType\": 1, \"questionType\": 1, \"questionId\": \"4_FirstDescs\", \"learnToolsVersion\": \"0.3.4\", \"failureMessage\": \"\", \"exceptionClass\": \"\", \"trace\": \"\"}}, \"*\")"
          },
          "metadata": {}
        },
        {
          "output_type": "display_data",
          "data": {
            "text/plain": "Correct: \n\n\n```python\nfirst_descriptions = reviews.description.iloc[:10]\n```\nNote that many other options will return a valid result, such as `desc.head(10)` and `reviews.loc[:9, \"description\"]`.    ",
            "text/markdown": "<span style=\"color:#33cc33\">Correct:</span> \n\n\n```python\nfirst_descriptions = reviews.description.iloc[:10]\n```\nNote that many other options will return a valid result, such as `desc.head(10)` and `reviews.loc[:9, \"description\"]`.    \n"
          },
          "metadata": {}
        },
        {
          "execution_count": 16,
          "output_type": "execute_result",
          "data": {
            "text/plain": "0    Aromas include tropical fruit, broom, brimston...\n1    This is ripe and fruity, a wine that is smooth...\n                           ...                        \n8    Savory dried thyme notes accent sunnier flavor...\n9    This has great depth of flavor with its fresh ...\nName: description, Length: 10, dtype: object"
          },
          "metadata": {}
        }
      ]
    },
    {
      "cell_type": "code",
      "source": [
        "#q4.hint()\n",
        "#q4.solution()"
      ],
      "metadata": {
        "id": "kdoN3KLspGlW"
      },
      "execution_count": null,
      "outputs": []
    },
    {
      "cell_type": "markdown",
      "source": [
        "## 5.\n",
        "\n",
        "Select the records with index labels `1`, `2`, `3`, `5`, and `8`, assigning the result to the variable `sample_reviews`.\n",
        "\n",
        "In other words, generate the following DataFrame:\n",
        "\n",
        "![](https://storage.googleapis.com/kaggle-media/learn/images/sHZvI1O.png)"
      ],
      "metadata": {
        "id": "jcH0WpBDpGlW"
      }
    },
    {
      "cell_type": "code",
      "source": [
        "sample_reviews = reviews.iloc[[1, 2, 3, 5, 8],]\n",
        "\n",
        "# Check your answer\n",
        "q5.check()\n",
        "sample_reviews"
      ],
      "metadata": {
        "execution": {
          "iopub.status.busy": "2024-07-05T15:52:46.419321Z",
          "iopub.execute_input": "2024-07-05T15:52:46.419832Z",
          "iopub.status.idle": "2024-07-05T15:52:46.454121Z",
          "shell.execute_reply.started": "2024-07-05T15:52:46.419797Z",
          "shell.execute_reply": "2024-07-05T15:52:46.452869Z"
        },
        "trusted": true,
        "id": "_OxhZzpxpGlW",
        "outputId": "029cec59-6987-40d6-c740-c3cb3537a0ef"
      },
      "execution_count": null,
      "outputs": [
        {
          "output_type": "display_data",
          "data": {
            "text/plain": "<IPython.core.display.Javascript object>",
            "application/javascript": "parent.postMessage({\"jupyterEvent\": \"custom.exercise_interaction\", \"data\": {\"outcomeType\": 1, \"valueTowardsCompletion\": 0.1111111111111111, \"interactionType\": 1, \"questionType\": 1, \"questionId\": \"5_SampleReviews\", \"learnToolsVersion\": \"0.3.4\", \"failureMessage\": \"\", \"exceptionClass\": \"\", \"trace\": \"\"}}, \"*\")"
          },
          "metadata": {}
        },
        {
          "output_type": "display_data",
          "data": {
            "text/plain": "Correct",
            "text/markdown": "<span style=\"color:#33cc33\">Correct</span>"
          },
          "metadata": {}
        },
        {
          "execution_count": 17,
          "output_type": "execute_result",
          "data": {
            "text/plain": "    country                                        description  \\\n1  Portugal  This is ripe and fruity, a wine that is smooth...   \n2        US  Tart and snappy, the flavors of lime flesh and...   \n3        US  Pineapple rind, lemon pith and orange blossom ...   \n5     Spain  Blackberry and raspberry aromas show a typical...   \n8   Germany  Savory dried thyme notes accent sunnier flavor...   \n\n            designation  points  price        province             region_1  \\\n1              Avidagos      87   15.0           Douro                  NaN   \n2                   NaN      87   14.0          Oregon    Willamette Valley   \n3  Reserve Late Harvest      87   13.0        Michigan  Lake Michigan Shore   \n5          Ars In Vitro      87   15.0  Northern Spain              Navarra   \n8                 Shine      87   12.0     Rheinhessen                  NaN   \n\n            region_2         taster_name taster_twitter_handle  \\\n1                NaN          Roger Voss            @vossroger   \n2  Willamette Valley        Paul Gregutt           @paulgwine    \n3                NaN  Alexander Peartree                   NaN   \n5                NaN   Michael Schachner           @wineschach   \n8                NaN  Anna Lee C. Iijima                   NaN   \n\n                                               title             variety  \\\n1      Quinta dos Avidagos 2011 Avidagos Red (Douro)      Portuguese Red   \n2      Rainstorm 2013 Pinot Gris (Willamette Valley)          Pinot Gris   \n3  St. Julian 2013 Reserve Late Harvest Riesling ...            Riesling   \n5  Tandem 2011 Ars In Vitro Tempranillo-Merlot (N...  Tempranillo-Merlot   \n8  Heinz Eifel 2013 Shine Gewürztraminer (Rheinhe...      Gewürztraminer   \n\n                winery  \n1  Quinta dos Avidagos  \n2            Rainstorm  \n3           St. Julian  \n5               Tandem  \n8          Heinz Eifel  ",
            "text/html": "<div>\n<style scoped>\n    .dataframe tbody tr th:only-of-type {\n        vertical-align: middle;\n    }\n\n    .dataframe tbody tr th {\n        vertical-align: top;\n    }\n\n    .dataframe thead th {\n        text-align: right;\n    }\n</style>\n<table border=\"1\" class=\"dataframe\">\n  <thead>\n    <tr style=\"text-align: right;\">\n      <th></th>\n      <th>country</th>\n      <th>description</th>\n      <th>designation</th>\n      <th>points</th>\n      <th>price</th>\n      <th>province</th>\n      <th>region_1</th>\n      <th>region_2</th>\n      <th>taster_name</th>\n      <th>taster_twitter_handle</th>\n      <th>title</th>\n      <th>variety</th>\n      <th>winery</th>\n    </tr>\n  </thead>\n  <tbody>\n    <tr>\n      <th>1</th>\n      <td>Portugal</td>\n      <td>This is ripe and fruity, a wine that is smooth...</td>\n      <td>Avidagos</td>\n      <td>87</td>\n      <td>15.0</td>\n      <td>Douro</td>\n      <td>NaN</td>\n      <td>NaN</td>\n      <td>Roger Voss</td>\n      <td>@vossroger</td>\n      <td>Quinta dos Avidagos 2011 Avidagos Red (Douro)</td>\n      <td>Portuguese Red</td>\n      <td>Quinta dos Avidagos</td>\n    </tr>\n    <tr>\n      <th>2</th>\n      <td>US</td>\n      <td>Tart and snappy, the flavors of lime flesh and...</td>\n      <td>NaN</td>\n      <td>87</td>\n      <td>14.0</td>\n      <td>Oregon</td>\n      <td>Willamette Valley</td>\n      <td>Willamette Valley</td>\n      <td>Paul Gregutt</td>\n      <td>@paulgwine</td>\n      <td>Rainstorm 2013 Pinot Gris (Willamette Valley)</td>\n      <td>Pinot Gris</td>\n      <td>Rainstorm</td>\n    </tr>\n    <tr>\n      <th>3</th>\n      <td>US</td>\n      <td>Pineapple rind, lemon pith and orange blossom ...</td>\n      <td>Reserve Late Harvest</td>\n      <td>87</td>\n      <td>13.0</td>\n      <td>Michigan</td>\n      <td>Lake Michigan Shore</td>\n      <td>NaN</td>\n      <td>Alexander Peartree</td>\n      <td>NaN</td>\n      <td>St. Julian 2013 Reserve Late Harvest Riesling ...</td>\n      <td>Riesling</td>\n      <td>St. Julian</td>\n    </tr>\n    <tr>\n      <th>5</th>\n      <td>Spain</td>\n      <td>Blackberry and raspberry aromas show a typical...</td>\n      <td>Ars In Vitro</td>\n      <td>87</td>\n      <td>15.0</td>\n      <td>Northern Spain</td>\n      <td>Navarra</td>\n      <td>NaN</td>\n      <td>Michael Schachner</td>\n      <td>@wineschach</td>\n      <td>Tandem 2011 Ars In Vitro Tempranillo-Merlot (N...</td>\n      <td>Tempranillo-Merlot</td>\n      <td>Tandem</td>\n    </tr>\n    <tr>\n      <th>8</th>\n      <td>Germany</td>\n      <td>Savory dried thyme notes accent sunnier flavor...</td>\n      <td>Shine</td>\n      <td>87</td>\n      <td>12.0</td>\n      <td>Rheinhessen</td>\n      <td>NaN</td>\n      <td>NaN</td>\n      <td>Anna Lee C. Iijima</td>\n      <td>NaN</td>\n      <td>Heinz Eifel 2013 Shine Gewürztraminer (Rheinhe...</td>\n      <td>Gewürztraminer</td>\n      <td>Heinz Eifel</td>\n    </tr>\n  </tbody>\n</table>\n</div>"
          },
          "metadata": {}
        }
      ]
    },
    {
      "cell_type": "code",
      "source": [
        "#q5.hint()\n",
        "#q5.solution()"
      ],
      "metadata": {
        "id": "HJl2m7HYpGlX"
      },
      "execution_count": null,
      "outputs": []
    },
    {
      "cell_type": "markdown",
      "source": [
        "## 6.\n",
        "\n",
        "Create a variable `df` containing the `country`, `province`, `region_1`, and `region_2` columns of the records with the index labels `0`, `1`, `10`, and `100`. In other words, generate the following DataFrame:\n",
        "\n",
        "![](https://storage.googleapis.com/kaggle-media/learn/images/FUCGiKP.png)"
      ],
      "metadata": {
        "id": "FMUUrhtqpGlX"
      }
    },
    {
      "cell_type": "code",
      "source": [
        "df = sample_reviews = reviews.loc[[0, 1, 10, 100],[\"country\", \"province\", \"region_1\", \"region_2\"]]\n",
        "\n",
        "# Check your answer\n",
        "q6.check()\n",
        "df"
      ],
      "metadata": {
        "execution": {
          "iopub.status.busy": "2024-07-05T15:54:33.673938Z",
          "iopub.execute_input": "2024-07-05T15:54:33.674409Z",
          "iopub.status.idle": "2024-07-05T15:54:33.704495Z",
          "shell.execute_reply.started": "2024-07-05T15:54:33.674361Z",
          "shell.execute_reply": "2024-07-05T15:54:33.703236Z"
        },
        "trusted": true,
        "id": "IxL5NBYUpGlX",
        "outputId": "6e21a450-0b5c-45b1-daa8-bbebc36d2efd"
      },
      "execution_count": null,
      "outputs": [
        {
          "output_type": "display_data",
          "data": {
            "text/plain": "<IPython.core.display.Javascript object>",
            "application/javascript": "parent.postMessage({\"jupyterEvent\": \"custom.exercise_interaction\", \"data\": {\"outcomeType\": 1, \"valueTowardsCompletion\": 0.1111111111111111, \"interactionType\": 1, \"questionType\": 1, \"questionId\": \"6_RowColSelect\", \"learnToolsVersion\": \"0.3.4\", \"failureMessage\": \"\", \"exceptionClass\": \"\", \"trace\": \"\"}}, \"*\")"
          },
          "metadata": {}
        },
        {
          "output_type": "display_data",
          "data": {
            "text/plain": "Correct",
            "text/markdown": "<span style=\"color:#33cc33\">Correct</span>"
          },
          "metadata": {}
        },
        {
          "execution_count": 19,
          "output_type": "execute_result",
          "data": {
            "text/plain": "      country           province      region_1      region_2\n0       Italy  Sicily & Sardinia          Etna           NaN\n1    Portugal              Douro           NaN           NaN\n10         US         California   Napa Valley          Napa\n100        US           New York  Finger Lakes  Finger Lakes",
            "text/html": "<div>\n<style scoped>\n    .dataframe tbody tr th:only-of-type {\n        vertical-align: middle;\n    }\n\n    .dataframe tbody tr th {\n        vertical-align: top;\n    }\n\n    .dataframe thead th {\n        text-align: right;\n    }\n</style>\n<table border=\"1\" class=\"dataframe\">\n  <thead>\n    <tr style=\"text-align: right;\">\n      <th></th>\n      <th>country</th>\n      <th>province</th>\n      <th>region_1</th>\n      <th>region_2</th>\n    </tr>\n  </thead>\n  <tbody>\n    <tr>\n      <th>0</th>\n      <td>Italy</td>\n      <td>Sicily &amp; Sardinia</td>\n      <td>Etna</td>\n      <td>NaN</td>\n    </tr>\n    <tr>\n      <th>1</th>\n      <td>Portugal</td>\n      <td>Douro</td>\n      <td>NaN</td>\n      <td>NaN</td>\n    </tr>\n    <tr>\n      <th>10</th>\n      <td>US</td>\n      <td>California</td>\n      <td>Napa Valley</td>\n      <td>Napa</td>\n    </tr>\n    <tr>\n      <th>100</th>\n      <td>US</td>\n      <td>New York</td>\n      <td>Finger Lakes</td>\n      <td>Finger Lakes</td>\n    </tr>\n  </tbody>\n</table>\n</div>"
          },
          "metadata": {}
        }
      ]
    },
    {
      "cell_type": "code",
      "source": [
        "#q6.hint()\n",
        "#q6.solution()"
      ],
      "metadata": {
        "id": "bzuX6vk6pGlX"
      },
      "execution_count": null,
      "outputs": []
    },
    {
      "cell_type": "markdown",
      "source": [
        "## 7.\n",
        "\n",
        "Create a variable `df` containing the `country` and `variety` columns of the first 100 records.\n",
        "\n",
        "Hint: you may use `loc` or `iloc`. When working on the answer this question and the several of the ones that follow, keep the following \"gotcha\" described in the tutorial:\n",
        "\n",
        "> `iloc` uses the Python stdlib indexing scheme, where the first element of the range is included and the last one excluded.\n",
        "`loc`, meanwhile, indexes inclusively.\n",
        "\n",
        "> This is particularly confusing when the DataFrame index is a simple numerical list, e.g. `0,...,1000`. In this case `df.iloc[0:1000]` will return 1000 entries, while `df.loc[0:1000]` return 1001 of them! To get 1000 elements using `loc`, you will need to go one lower and ask for `df.iloc[0:999]`."
      ],
      "metadata": {
        "id": "bB6iZoL5pGlX"
      }
    },
    {
      "cell_type": "code",
      "source": [
        "df = sample_reviews = reviews.loc[:99 ,[\"country\", \"variety\"]]\n",
        "\n",
        "# Check your answer\n",
        "q7.check()\n",
        "df"
      ],
      "metadata": {
        "execution": {
          "iopub.status.busy": "2024-07-05T15:56:13.387343Z",
          "iopub.execute_input": "2024-07-05T15:56:13.387807Z",
          "iopub.status.idle": "2024-07-05T15:56:13.411311Z",
          "shell.execute_reply.started": "2024-07-05T15:56:13.387775Z",
          "shell.execute_reply": "2024-07-05T15:56:13.409872Z"
        },
        "trusted": true,
        "id": "FmnDJF36pGlX",
        "outputId": "5d451c1f-60a7-4b21-a02c-76384838b165"
      },
      "execution_count": null,
      "outputs": [
        {
          "output_type": "display_data",
          "data": {
            "text/plain": "<IPython.core.display.Javascript object>",
            "application/javascript": "parent.postMessage({\"jupyterEvent\": \"custom.exercise_interaction\", \"data\": {\"outcomeType\": 1, \"valueTowardsCompletion\": 0.1111111111111111, \"interactionType\": 1, \"questionType\": 1, \"questionId\": \"7_RowColSelect2\", \"learnToolsVersion\": \"0.3.4\", \"failureMessage\": \"\", \"exceptionClass\": \"\", \"trace\": \"\"}}, \"*\")"
          },
          "metadata": {}
        },
        {
          "output_type": "display_data",
          "data": {
            "text/plain": "Correct: \n\n\n```python\ncols = ['country', 'variety']\ndf = reviews.loc[:99, cols]\n```\nor \n```python\ncols_idx = [0, 11]\ndf = reviews.iloc[:100, cols_idx]\n```",
            "text/markdown": "<span style=\"color:#33cc33\">Correct:</span> \n\n\n```python\ncols = ['country', 'variety']\ndf = reviews.loc[:99, cols]\n```\nor \n```python\ncols_idx = [0, 11]\ndf = reviews.iloc[:100, cols_idx]\n```\n"
          },
          "metadata": {}
        },
        {
          "execution_count": 20,
          "output_type": "execute_result",
          "data": {
            "text/plain": "     country                   variety\n0      Italy               White Blend\n1   Portugal            Portuguese Red\n..       ...                       ...\n98     Italy                Sangiovese\n99        US  Bordeaux-style Red Blend\n\n[100 rows x 2 columns]",
            "text/html": "<div>\n<style scoped>\n    .dataframe tbody tr th:only-of-type {\n        vertical-align: middle;\n    }\n\n    .dataframe tbody tr th {\n        vertical-align: top;\n    }\n\n    .dataframe thead th {\n        text-align: right;\n    }\n</style>\n<table border=\"1\" class=\"dataframe\">\n  <thead>\n    <tr style=\"text-align: right;\">\n      <th></th>\n      <th>country</th>\n      <th>variety</th>\n    </tr>\n  </thead>\n  <tbody>\n    <tr>\n      <th>0</th>\n      <td>Italy</td>\n      <td>White Blend</td>\n    </tr>\n    <tr>\n      <th>1</th>\n      <td>Portugal</td>\n      <td>Portuguese Red</td>\n    </tr>\n    <tr>\n      <th>...</th>\n      <td>...</td>\n      <td>...</td>\n    </tr>\n    <tr>\n      <th>98</th>\n      <td>Italy</td>\n      <td>Sangiovese</td>\n    </tr>\n    <tr>\n      <th>99</th>\n      <td>US</td>\n      <td>Bordeaux-style Red Blend</td>\n    </tr>\n  </tbody>\n</table>\n<p>100 rows × 2 columns</p>\n</div>"
          },
          "metadata": {}
        }
      ]
    },
    {
      "cell_type": "code",
      "source": [
        "#q7.hint()\n",
        "#q7.solution()"
      ],
      "metadata": {
        "id": "A2c5144KpGlX"
      },
      "execution_count": null,
      "outputs": []
    },
    {
      "cell_type": "markdown",
      "source": [
        "## 8.\n",
        "\n",
        "Create a DataFrame `italian_wines` containing reviews of wines made in `Italy`. Hint: `reviews.country` equals what?"
      ],
      "metadata": {
        "id": "KoNBjCIMpGlX"
      }
    },
    {
      "cell_type": "code",
      "source": [
        "italian_wines = reviews.loc[reviews.country == 'Italy']\n",
        "\n",
        "# Check your answer\n",
        "q8.check()"
      ],
      "metadata": {
        "execution": {
          "iopub.status.busy": "2024-07-05T15:59:57.692598Z",
          "iopub.execute_input": "2024-07-05T15:59:57.693072Z",
          "iopub.status.idle": "2024-07-05T15:59:57.744681Z",
          "shell.execute_reply.started": "2024-07-05T15:59:57.693023Z",
          "shell.execute_reply": "2024-07-05T15:59:57.74341Z"
        },
        "trusted": true,
        "id": "D3ygzklepGlX",
        "outputId": "8e32fdab-fd75-48e4-f9c3-b971ef3a0c5a"
      },
      "execution_count": null,
      "outputs": [
        {
          "output_type": "display_data",
          "data": {
            "text/plain": "<IPython.core.display.Javascript object>",
            "application/javascript": "parent.postMessage({\"jupyterEvent\": \"custom.exercise_interaction\", \"data\": {\"outcomeType\": 1, \"valueTowardsCompletion\": 0.1111111111111111, \"interactionType\": 1, \"questionType\": 1, \"questionId\": \"8_ItalianWines\", \"learnToolsVersion\": \"0.3.4\", \"failureMessage\": \"\", \"exceptionClass\": \"\", \"trace\": \"\"}}, \"*\")"
          },
          "metadata": {}
        },
        {
          "output_type": "display_data",
          "data": {
            "text/plain": "Correct",
            "text/markdown": "<span style=\"color:#33cc33\">Correct</span>"
          },
          "metadata": {}
        }
      ]
    },
    {
      "cell_type": "code",
      "source": [
        "#q8.hint()\n",
        "#q8.solution()"
      ],
      "metadata": {
        "id": "4SjdHqpGpGlY"
      },
      "execution_count": null,
      "outputs": []
    },
    {
      "cell_type": "markdown",
      "source": [
        "## 9.\n",
        "\n",
        "Create a DataFrame `top_oceania_wines` containing all reviews with at least 95 points (out of 100) for wines from Australia or New Zealand."
      ],
      "metadata": {
        "id": "fXOMulZ1pGlY"
      }
    },
    {
      "cell_type": "code",
      "source": [
        "top_oceania_wines = reviews.loc[(reviews[\"points\"] >= 95) & ((reviews.country == 'Australia') | (reviews.country == 'New Zealand'))]\n",
        "\n",
        "# Check your answer\n",
        "q9.check()\n",
        "top_oceania_wines"
      ],
      "metadata": {
        "execution": {
          "iopub.status.busy": "2024-07-05T16:05:35.976965Z",
          "iopub.execute_input": "2024-07-05T16:05:35.977494Z",
          "iopub.status.idle": "2024-07-05T16:05:36.063625Z",
          "shell.execute_reply.started": "2024-07-05T16:05:35.97745Z",
          "shell.execute_reply": "2024-07-05T16:05:36.062319Z"
        },
        "trusted": true,
        "id": "8As7JihjpGlY",
        "outputId": "37627af4-f964-4864-d686-d1a103af26f0"
      },
      "execution_count": null,
      "outputs": [
        {
          "output_type": "display_data",
          "data": {
            "text/plain": "<IPython.core.display.Javascript object>",
            "application/javascript": "parent.postMessage({\"jupyterEvent\": \"custom.exercise_interaction\", \"data\": {\"outcomeType\": 1, \"valueTowardsCompletion\": 0.1111111111111111, \"interactionType\": 1, \"questionType\": 1, \"questionId\": \"9_TopOceanicWines\", \"learnToolsVersion\": \"0.3.4\", \"failureMessage\": \"\", \"exceptionClass\": \"\", \"trace\": \"\"}}, \"*\")"
          },
          "metadata": {}
        },
        {
          "output_type": "display_data",
          "data": {
            "text/plain": "Correct",
            "text/markdown": "<span style=\"color:#33cc33\">Correct</span>"
          },
          "metadata": {}
        },
        {
          "execution_count": 32,
          "output_type": "execute_result",
          "data": {
            "text/plain": "            country                                        description  \\\n345       Australia  This wine contains some material over 100 year...   \n346       Australia  This deep brown wine smells like a damp, mossy...   \n...             ...                                                ...   \n122507  New Zealand  This blend of Cabernet Sauvignon (62.5%), Merl...   \n122939    Australia  Full-bodied and plush yet vibrant and imbued w...   \n\n                                  designation  points  price         province  \\\n345                                      Rare     100  350.0         Victoria   \n346                                      Rare      98  350.0         Victoria   \n...                                       ...     ...    ...              ...   \n122507  SQM Gimblett Gravels Cabernets/Merlot      95   79.0      Hawke's Bay   \n122939                             The Factor      98  125.0  South Australia   \n\n              region_1 region_2     taster_name taster_twitter_handle  \\\n345         Rutherglen      NaN  Joe Czerwinski                @JoeCz   \n346         Rutherglen      NaN  Joe Czerwinski                @JoeCz   \n...                ...      ...             ...                   ...   \n122507             NaN      NaN  Joe Czerwinski                @JoeCz   \n122939  Barossa Valley      NaN  Joe Czerwinski                @JoeCz   \n\n                                                    title  \\\n345     Chambers Rosewood Vineyards NV Rare Muscat (Ru...   \n346     Chambers Rosewood Vineyards NV Rare Muscadelle...   \n...                                                   ...   \n122507  Squawking Magpie 2014 SQM Gimblett Gravels Cab...   \n122939   Torbreck 2013 The Factor Shiraz (Barossa Valley)   \n\n                         variety                       winery  \n345                       Muscat  Chambers Rosewood Vineyards  \n346                   Muscadelle  Chambers Rosewood Vineyards  \n...                          ...                          ...  \n122507  Bordeaux-style Red Blend             Squawking Magpie  \n122939                    Shiraz                     Torbreck  \n\n[49 rows x 13 columns]",
            "text/html": "<div>\n<style scoped>\n    .dataframe tbody tr th:only-of-type {\n        vertical-align: middle;\n    }\n\n    .dataframe tbody tr th {\n        vertical-align: top;\n    }\n\n    .dataframe thead th {\n        text-align: right;\n    }\n</style>\n<table border=\"1\" class=\"dataframe\">\n  <thead>\n    <tr style=\"text-align: right;\">\n      <th></th>\n      <th>country</th>\n      <th>description</th>\n      <th>designation</th>\n      <th>points</th>\n      <th>price</th>\n      <th>province</th>\n      <th>region_1</th>\n      <th>region_2</th>\n      <th>taster_name</th>\n      <th>taster_twitter_handle</th>\n      <th>title</th>\n      <th>variety</th>\n      <th>winery</th>\n    </tr>\n  </thead>\n  <tbody>\n    <tr>\n      <th>345</th>\n      <td>Australia</td>\n      <td>This wine contains some material over 100 year...</td>\n      <td>Rare</td>\n      <td>100</td>\n      <td>350.0</td>\n      <td>Victoria</td>\n      <td>Rutherglen</td>\n      <td>NaN</td>\n      <td>Joe Czerwinski</td>\n      <td>@JoeCz</td>\n      <td>Chambers Rosewood Vineyards NV Rare Muscat (Ru...</td>\n      <td>Muscat</td>\n      <td>Chambers Rosewood Vineyards</td>\n    </tr>\n    <tr>\n      <th>346</th>\n      <td>Australia</td>\n      <td>This deep brown wine smells like a damp, mossy...</td>\n      <td>Rare</td>\n      <td>98</td>\n      <td>350.0</td>\n      <td>Victoria</td>\n      <td>Rutherglen</td>\n      <td>NaN</td>\n      <td>Joe Czerwinski</td>\n      <td>@JoeCz</td>\n      <td>Chambers Rosewood Vineyards NV Rare Muscadelle...</td>\n      <td>Muscadelle</td>\n      <td>Chambers Rosewood Vineyards</td>\n    </tr>\n    <tr>\n      <th>...</th>\n      <td>...</td>\n      <td>...</td>\n      <td>...</td>\n      <td>...</td>\n      <td>...</td>\n      <td>...</td>\n      <td>...</td>\n      <td>...</td>\n      <td>...</td>\n      <td>...</td>\n      <td>...</td>\n      <td>...</td>\n      <td>...</td>\n    </tr>\n    <tr>\n      <th>122507</th>\n      <td>New Zealand</td>\n      <td>This blend of Cabernet Sauvignon (62.5%), Merl...</td>\n      <td>SQM Gimblett Gravels Cabernets/Merlot</td>\n      <td>95</td>\n      <td>79.0</td>\n      <td>Hawke's Bay</td>\n      <td>NaN</td>\n      <td>NaN</td>\n      <td>Joe Czerwinski</td>\n      <td>@JoeCz</td>\n      <td>Squawking Magpie 2014 SQM Gimblett Gravels Cab...</td>\n      <td>Bordeaux-style Red Blend</td>\n      <td>Squawking Magpie</td>\n    </tr>\n    <tr>\n      <th>122939</th>\n      <td>Australia</td>\n      <td>Full-bodied and plush yet vibrant and imbued w...</td>\n      <td>The Factor</td>\n      <td>98</td>\n      <td>125.0</td>\n      <td>South Australia</td>\n      <td>Barossa Valley</td>\n      <td>NaN</td>\n      <td>Joe Czerwinski</td>\n      <td>@JoeCz</td>\n      <td>Torbreck 2013 The Factor Shiraz (Barossa Valley)</td>\n      <td>Shiraz</td>\n      <td>Torbreck</td>\n    </tr>\n  </tbody>\n</table>\n<p>49 rows × 13 columns</p>\n</div>"
          },
          "metadata": {}
        }
      ]
    },
    {
      "cell_type": "code",
      "source": [
        "#q9.hint()\n",
        "#q9.solution()"
      ],
      "metadata": {
        "id": "2RdY-YqqpGlY"
      },
      "execution_count": null,
      "outputs": []
    },
    {
      "cell_type": "markdown",
      "source": [
        "# Keep going\n",
        "\n",
        "Move on to learn about **[summary functions and maps](https://www.kaggle.com/residentmario/summary-functions-and-maps)**."
      ],
      "metadata": {
        "id": "L8yJUF1zpGlY"
      }
    },
    {
      "cell_type": "markdown",
      "source": [
        "---\n",
        "\n",
        "\n",
        "\n",
        "\n",
        "*Have questions or comments? Visit the [course discussion forum](https://www.kaggle.com/learn/pandas/discussion) to chat with other learners.*"
      ],
      "metadata": {
        "id": "Q5XXrVfUpGlY"
      }
    }
  ]
}