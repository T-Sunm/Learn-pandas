{
 "cells": [
  {
   "cell_type": "markdown",
   "id": "25cd8a44",
   "metadata": {
    "papermill": {
     "duration": 0.007047,
     "end_time": "2024-07-16T12:21:27.530407",
     "exception": false,
     "start_time": "2024-07-16T12:21:27.523360",
     "status": "completed"
    },
    "tags": []
   },
   "source": [
    "**This notebook is an exercise in the [Pandas](https://www.kaggle.com/learn/pandas) course.  You can reference the tutorial at [this link](https://www.kaggle.com/residentmario/grouping-and-sorting).**\n",
    "\n",
    "---\n"
   ]
  },
  {
   "cell_type": "markdown",
   "id": "347b3b41",
   "metadata": {
    "papermill": {
     "duration": 0.006695,
     "end_time": "2024-07-16T12:21:27.543938",
     "exception": false,
     "start_time": "2024-07-16T12:21:27.537243",
     "status": "completed"
    },
    "tags": []
   },
   "source": [
    "# Introduction\n",
    "\n",
    "In these exercises we'll apply groupwise analysis to our dataset.\n",
    "\n",
    "Run the code cell below to load the data before running the exercises."
   ]
  },
  {
   "cell_type": "code",
   "execution_count": 1,
   "id": "5b6cbe60",
   "metadata": {
    "execution": {
     "iopub.execute_input": "2024-07-16T12:21:27.559837Z",
     "iopub.status.busy": "2024-07-16T12:21:27.559405Z",
     "iopub.status.idle": "2024-07-16T12:21:31.572511Z",
     "shell.execute_reply": "2024-07-16T12:21:31.571364Z"
    },
    "papermill": {
     "duration": 4.02426,
     "end_time": "2024-07-16T12:21:31.575331",
     "exception": false,
     "start_time": "2024-07-16T12:21:27.551071",
     "status": "completed"
    },
    "tags": []
   },
   "outputs": [
    {
     "name": "stdout",
     "output_type": "stream",
     "text": [
      "         country                                        description  \\\n",
      "0          Italy  Aromas include tropical fruit, broom, brimston...   \n",
      "1       Portugal  This is ripe and fruity, a wine that is smooth...   \n",
      "...          ...                                                ...   \n",
      "129969    France  A dry style of Pinot Gris, this is crisp with ...   \n",
      "129970    France  Big, rich and off-dry, this is powered by inte...   \n",
      "\n",
      "                          designation  points  price           province  \\\n",
      "0                        Vulkà Bianco      87    NaN  Sicily & Sardinia   \n",
      "1                            Avidagos      87   15.0              Douro   \n",
      "...                               ...     ...    ...                ...   \n",
      "129969                            NaN      90   32.0             Alsace   \n",
      "129970  Lieu-dit Harth Cuvée Caroline      90   21.0             Alsace   \n",
      "\n",
      "       region_1 region_2    taster_name taster_twitter_handle  \\\n",
      "0          Etna      NaN  Kerin O’Keefe          @kerinokeefe   \n",
      "1           NaN      NaN     Roger Voss            @vossroger   \n",
      "...         ...      ...            ...                   ...   \n",
      "129969   Alsace      NaN     Roger Voss            @vossroger   \n",
      "129970   Alsace      NaN     Roger Voss            @vossroger   \n",
      "\n",
      "                                                    title         variety  \\\n",
      "0                       Nicosia 2013 Vulkà Bianco  (Etna)     White Blend   \n",
      "1           Quinta dos Avidagos 2011 Avidagos Red (Douro)  Portuguese Red   \n",
      "...                                                   ...             ...   \n",
      "129969      Domaine Marcel Deiss 2012 Pinot Gris (Alsace)      Pinot Gris   \n",
      "129970  Domaine Schoffit 2012 Lieu-dit Harth Cuvée Car...  Gewürztraminer   \n",
      "\n",
      "                      winery  \n",
      "0                    Nicosia  \n",
      "1        Quinta dos Avidagos  \n",
      "...                      ...  \n",
      "129969  Domaine Marcel Deiss  \n",
      "129970      Domaine Schoffit  \n",
      "\n",
      "[129971 rows x 13 columns]\n",
      "Setup complete.\n"
     ]
    },
    {
     "name": "stderr",
     "output_type": "stream",
     "text": [
      "/opt/conda/lib/python3.10/site-packages/learntools/pandas/grouping_and_sorting.py:29: FutureWarning: The provided callable <built-in function min> is currently using SeriesGroupBy.min. In a future version of pandas, the provided callable will be used directly. To keep current behavior pass the string \"min\" instead.\n",
      "  _expected = reviews.groupby('variety').price.agg([min, max])\n",
      "/opt/conda/lib/python3.10/site-packages/learntools/pandas/grouping_and_sorting.py:29: FutureWarning: The provided callable <built-in function max> is currently using SeriesGroupBy.max. In a future version of pandas, the provided callable will be used directly. To keep current behavior pass the string \"max\" instead.\n",
      "  _expected = reviews.groupby('variety').price.agg([min, max])\n",
      "/opt/conda/lib/python3.10/site-packages/learntools/pandas/grouping_and_sorting.py:35: FutureWarning: The provided callable <built-in function min> is currently using SeriesGroupBy.min. In a future version of pandas, the provided callable will be used directly. To keep current behavior pass the string \"min\" instead.\n",
      "  _expected = reviews.groupby('variety').price.agg([min, max]).sort_values(by=['min', 'max'], ascending=False)\n",
      "/opt/conda/lib/python3.10/site-packages/learntools/pandas/grouping_and_sorting.py:35: FutureWarning: The provided callable <built-in function max> is currently using SeriesGroupBy.max. In a future version of pandas, the provided callable will be used directly. To keep current behavior pass the string \"max\" instead.\n",
      "  _expected = reviews.groupby('variety').price.agg([min, max]).sort_values(by=['min', 'max'], ascending=False)\n"
     ]
    }
   ],
   "source": [
    "import pandas as pd\n",
    "\n",
    "reviews = pd.read_csv(\"../input/wine-reviews/winemag-data-130k-v2.csv\", index_col=0)\n",
    "pd.set_option(\"display.max_rows\", 5)\n",
    "print(reviews)\n",
    "\n",
    "from learntools.core import binder; binder.bind(globals())\n",
    "from learntools.pandas.grouping_and_sorting import *\n",
    "print(\"Setup complete.\")"
   ]
  },
  {
   "cell_type": "markdown",
   "id": "99403da7",
   "metadata": {
    "papermill": {
     "duration": 0.006819,
     "end_time": "2024-07-16T12:21:31.589241",
     "exception": false,
     "start_time": "2024-07-16T12:21:31.582422",
     "status": "completed"
    },
    "tags": []
   },
   "source": [
    "# Exercises"
   ]
  },
  {
   "cell_type": "markdown",
   "id": "acc519c0",
   "metadata": {
    "papermill": {
     "duration": 0.006881,
     "end_time": "2024-07-16T12:21:31.603087",
     "exception": false,
     "start_time": "2024-07-16T12:21:31.596206",
     "status": "completed"
    },
    "tags": []
   },
   "source": [
    "## 1.\n",
    "Who are the most common wine reviewers in the dataset? Create a `Series` whose index is the `taster_twitter_handle` category from the dataset, and whose values count how many reviews each person wrote."
   ]
  },
  {
   "cell_type": "code",
   "execution_count": 2,
   "id": "086c2c81",
   "metadata": {
    "execution": {
     "iopub.execute_input": "2024-07-16T12:21:31.619063Z",
     "iopub.status.busy": "2024-07-16T12:21:31.618647Z",
     "iopub.status.idle": "2024-07-16T12:21:31.653317Z",
     "shell.execute_reply": "2024-07-16T12:21:31.652166Z"
    },
    "papermill": {
     "duration": 0.0455,
     "end_time": "2024-07-16T12:21:31.655623",
     "exception": false,
     "start_time": "2024-07-16T12:21:31.610123",
     "status": "completed"
    },
    "tags": []
   },
   "outputs": [
    {
     "name": "stdout",
     "output_type": "stream",
     "text": [
      "taster_twitter_handle\n",
      "@vossroger         25514\n",
      "@wineschach        15134\n",
      "                   ...  \n",
      "@bkfiona              27\n",
      "@winewchristina        6\n",
      "Name: count, Length: 15, dtype: int64\n",
      "taster_twitter_handle\n",
      "@vossroger         25514\n",
      "@wineschach        15134\n",
      "                   ...  \n",
      "@bkfiona              27\n",
      "@winewchristina        6\n",
      "Name: taster_twitter_handle, Length: 15, dtype: int64\n"
     ]
    }
   ],
   "source": [
    "reviews_written = reviews['taster_twitter_handle'].value_counts().sort_values(ascending = False)\n",
    "print(reviews_written)\n",
    "\n",
    "reviews_written = reviews.groupby('taster_twitter_handle').taster_twitter_handle.count().sort_values(ascending = False)\n",
    "print(reviews_written)"
   ]
  },
  {
   "cell_type": "code",
   "execution_count": 3,
   "id": "dfec0ab8",
   "metadata": {
    "execution": {
     "iopub.execute_input": "2024-07-16T12:21:31.671640Z",
     "iopub.status.busy": "2024-07-16T12:21:31.671248Z",
     "iopub.status.idle": "2024-07-16T12:21:31.700404Z",
     "shell.execute_reply": "2024-07-16T12:21:31.699417Z"
    },
    "papermill": {
     "duration": 0.039753,
     "end_time": "2024-07-16T12:21:31.702597",
     "exception": false,
     "start_time": "2024-07-16T12:21:31.662844",
     "status": "completed"
    },
    "tags": []
   },
   "outputs": [
    {
     "name": "stdout",
     "output_type": "stream",
     "text": [
      "taster_twitter_handle\n",
      "@AnneInVino        3685\n",
      "@JoeCz             5147\n",
      "                   ... \n",
      "@winewchristina       6\n",
      "@worldwineguys     1005\n",
      "Name: taster_twitter_handle, Length: 15, dtype: int64\n"
     ]
    },
    {
     "data": {
      "application/javascript": [
       "parent.postMessage({\"jupyterEvent\": \"custom.exercise_interaction\", \"data\": {\"outcomeType\": 1, \"valueTowardsCompletion\": 0.16666666666666666, \"interactionType\": 1, \"questionType\": 1, \"questionId\": \"1_ReviewsWritten\", \"learnToolsVersion\": \"0.3.4\", \"failureMessage\": \"\", \"exceptionClass\": \"\", \"trace\": \"\"}}, \"*\")"
      ],
      "text/plain": [
       "<IPython.core.display.Javascript object>"
      ]
     },
     "metadata": {},
     "output_type": "display_data"
    },
    {
     "data": {
      "text/markdown": [
       "<span style=\"color:#33cc33\">Correct:</span> \n",
       "\n",
       "\n",
       "```python\n",
       "reviews_written = reviews.groupby('taster_twitter_handle').size()\n",
       "```\n",
       "or\n",
       "```python\n",
       "reviews_written = reviews.groupby('taster_twitter_handle').taster_twitter_handle.count()\n",
       "```\n"
      ],
      "text/plain": [
       "Correct: \n",
       "\n",
       "\n",
       "```python\n",
       "reviews_written = reviews.groupby('taster_twitter_handle').size()\n",
       "```\n",
       "or\n",
       "```python\n",
       "reviews_written = reviews.groupby('taster_twitter_handle').taster_twitter_handle.count()\n",
       "```"
      ]
     },
     "metadata": {},
     "output_type": "display_data"
    }
   ],
   "source": [
    "# Your code here\n",
    "reviews_written = reviews.groupby('taster_twitter_handle').taster_twitter_handle.count()\n",
    "print(reviews_written)\n",
    "\n",
    "# Check your answer\n",
    "q1.check()"
   ]
  },
  {
   "cell_type": "code",
   "execution_count": 4,
   "id": "7d41318c",
   "metadata": {
    "execution": {
     "iopub.execute_input": "2024-07-16T12:21:31.720578Z",
     "iopub.status.busy": "2024-07-16T12:21:31.719550Z",
     "iopub.status.idle": "2024-07-16T12:21:31.724529Z",
     "shell.execute_reply": "2024-07-16T12:21:31.723268Z"
    },
    "papermill": {
     "duration": 0.016726,
     "end_time": "2024-07-16T12:21:31.726792",
     "exception": false,
     "start_time": "2024-07-16T12:21:31.710066",
     "status": "completed"
    },
    "tags": []
   },
   "outputs": [],
   "source": [
    "#q1.hint()\n",
    "#q1.solution()"
   ]
  },
  {
   "cell_type": "markdown",
   "id": "1287f2c4",
   "metadata": {
    "papermill": {
     "duration": 0.007221,
     "end_time": "2024-07-16T12:21:31.742034",
     "exception": false,
     "start_time": "2024-07-16T12:21:31.734813",
     "status": "completed"
    },
    "tags": []
   },
   "source": [
    "## 2.\n",
    "What is the best wine I can buy for a given amount of money? Create a `Series` whose index is wine prices and whose values is the maximum number of points a wine costing that much was given in a review. Sort the values by price, ascending (so that `4.0` dollars is at the top and `3300.0` dollars is at the bottom)."
   ]
  },
  {
   "cell_type": "code",
   "execution_count": 5,
   "id": "313a2584",
   "metadata": {
    "execution": {
     "iopub.execute_input": "2024-07-16T12:21:31.758642Z",
     "iopub.status.busy": "2024-07-16T12:21:31.758253Z",
     "iopub.status.idle": "2024-07-16T12:21:31.770059Z",
     "shell.execute_reply": "2024-07-16T12:21:31.768953Z"
    },
    "papermill": {
     "duration": 0.022956,
     "end_time": "2024-07-16T12:21:31.772412",
     "exception": false,
     "start_time": "2024-07-16T12:21:31.749456",
     "status": "completed"
    },
    "tags": []
   },
   "outputs": [
    {
     "name": "stdout",
     "output_type": "stream",
     "text": [
      "price\n",
      "4.0       86\n",
      "5.0       87\n",
      "          ..\n",
      "2500.0    96\n",
      "3300.0    88\n",
      "Name: points, Length: 390, dtype: int64\n"
     ]
    }
   ],
   "source": [
    "best_rating_per_price = reviews.groupby(\"price\").points.max()\n",
    "print(best_rating_per_price)"
   ]
  },
  {
   "cell_type": "code",
   "execution_count": 6,
   "id": "72fbd9d5",
   "metadata": {
    "execution": {
     "iopub.execute_input": "2024-07-16T12:21:31.789478Z",
     "iopub.status.busy": "2024-07-16T12:21:31.789036Z",
     "iopub.status.idle": "2024-07-16T12:21:31.802260Z",
     "shell.execute_reply": "2024-07-16T12:21:31.801167Z"
    },
    "papermill": {
     "duration": 0.024437,
     "end_time": "2024-07-16T12:21:31.804504",
     "exception": false,
     "start_time": "2024-07-16T12:21:31.780067",
     "status": "completed"
    },
    "tags": []
   },
   "outputs": [
    {
     "data": {
      "application/javascript": [
       "parent.postMessage({\"jupyterEvent\": \"custom.exercise_interaction\", \"data\": {\"outcomeType\": 1, \"valueTowardsCompletion\": 0.16666666666666666, \"interactionType\": 1, \"questionType\": 1, \"questionId\": \"2_BestRatingPerPrice\", \"learnToolsVersion\": \"0.3.4\", \"failureMessage\": \"\", \"exceptionClass\": \"\", \"trace\": \"\"}}, \"*\")"
      ],
      "text/plain": [
       "<IPython.core.display.Javascript object>"
      ]
     },
     "metadata": {},
     "output_type": "display_data"
    },
    {
     "data": {
      "text/markdown": [
       "<span style=\"color:#33cc33\">Correct</span>"
      ],
      "text/plain": [
       "Correct"
      ]
     },
     "metadata": {},
     "output_type": "display_data"
    }
   ],
   "source": [
    "best_rating_per_price = reviews.groupby(\"price\").points.max()\n",
    "\n",
    "# Check your answer\n",
    "q2.check()"
   ]
  },
  {
   "cell_type": "code",
   "execution_count": 7,
   "id": "dc593b03",
   "metadata": {
    "execution": {
     "iopub.execute_input": "2024-07-16T12:21:31.821767Z",
     "iopub.status.busy": "2024-07-16T12:21:31.821361Z",
     "iopub.status.idle": "2024-07-16T12:21:31.829354Z",
     "shell.execute_reply": "2024-07-16T12:21:31.828384Z"
    },
    "papermill": {
     "duration": 0.019307,
     "end_time": "2024-07-16T12:21:31.831551",
     "exception": false,
     "start_time": "2024-07-16T12:21:31.812244",
     "status": "completed"
    },
    "tags": []
   },
   "outputs": [
    {
     "data": {
      "application/javascript": [
       "parent.postMessage({\"jupyterEvent\": \"custom.exercise_interaction\", \"data\": {\"interactionType\": 2, \"questionType\": 1, \"questionId\": \"2_BestRatingPerPrice\", \"learnToolsVersion\": \"0.3.4\", \"valueTowardsCompletion\": 0.0, \"failureMessage\": \"\", \"exceptionClass\": \"\", \"trace\": \"\", \"outcomeType\": 4}}, \"*\")"
      ],
      "text/plain": [
       "<IPython.core.display.Javascript object>"
      ]
     },
     "metadata": {},
     "output_type": "display_data"
    },
    {
     "data": {
      "text/markdown": [
       "<span style=\"color:#3366cc\">Hint:</span> Use `max()` and `sort_index()`.  The relevant columns in the DataFrame are `price` and `points`."
      ],
      "text/plain": [
       "Hint: Use `max()` and `sort_index()`.  The relevant columns in the DataFrame are `price` and `points`."
      ]
     },
     "metadata": {},
     "output_type": "display_data"
    }
   ],
   "source": [
    "q2.hint()\n",
    "#q2.solution()"
   ]
  },
  {
   "cell_type": "markdown",
   "id": "4bf9e1ba",
   "metadata": {
    "papermill": {
     "duration": 0.007635,
     "end_time": "2024-07-16T12:21:31.847192",
     "exception": false,
     "start_time": "2024-07-16T12:21:31.839557",
     "status": "completed"
    },
    "tags": []
   },
   "source": [
    "## 3.\n",
    "What are the minimum and maximum prices for each `variety` of wine? Create a `DataFrame` whose index is the `variety` category from the dataset and whose values are the `min` and `max` values thereof."
   ]
  },
  {
   "cell_type": "code",
   "execution_count": 8,
   "id": "5b6f3e48",
   "metadata": {
    "execution": {
     "iopub.execute_input": "2024-07-16T12:21:31.865103Z",
     "iopub.status.busy": "2024-07-16T12:21:31.864270Z",
     "iopub.status.idle": "2024-07-16T12:21:31.892315Z",
     "shell.execute_reply": "2024-07-16T12:21:31.891202Z"
    },
    "papermill": {
     "duration": 0.03949,
     "end_time": "2024-07-16T12:21:31.894562",
     "exception": false,
     "start_time": "2024-07-16T12:21:31.855072",
     "status": "completed"
    },
    "tags": []
   },
   "outputs": [
    {
     "name": "stdout",
     "output_type": "stream",
     "text": [
      "              min   max\n",
      "variety                \n",
      "Abouriou     15.0  75.0\n",
      "Agiorgitiko  10.0  66.0\n",
      "...           ...   ...\n",
      "Çalkarası    19.0  19.0\n",
      "Žilavka      15.0  15.0\n",
      "\n",
      "[707 rows x 2 columns]\n"
     ]
    },
    {
     "data": {
      "application/javascript": [
       "parent.postMessage({\"jupyterEvent\": \"custom.exercise_interaction\", \"data\": {\"outcomeType\": 1, \"valueTowardsCompletion\": 0.16666666666666666, \"interactionType\": 1, \"questionType\": 1, \"questionId\": \"3_PriceExtremes\", \"learnToolsVersion\": \"0.3.4\", \"failureMessage\": \"\", \"exceptionClass\": \"\", \"trace\": \"\"}}, \"*\")"
      ],
      "text/plain": [
       "<IPython.core.display.Javascript object>"
      ]
     },
     "metadata": {},
     "output_type": "display_data"
    },
    {
     "data": {
      "text/markdown": [
       "<span style=\"color:#33cc33\">Correct</span>"
      ],
      "text/plain": [
       "Correct"
      ]
     },
     "metadata": {},
     "output_type": "display_data"
    }
   ],
   "source": [
    "price_extremes = reviews.groupby(\"variety\").price.agg([\"min\", \"max\"])\n",
    "print(price_extremes)\n",
    "\n",
    "# Check your answer\n",
    "q3.check()"
   ]
  },
  {
   "cell_type": "code",
   "execution_count": 9,
   "id": "d8244ec9",
   "metadata": {
    "execution": {
     "iopub.execute_input": "2024-07-16T12:21:31.912803Z",
     "iopub.status.busy": "2024-07-16T12:21:31.912395Z",
     "iopub.status.idle": "2024-07-16T12:21:31.916991Z",
     "shell.execute_reply": "2024-07-16T12:21:31.915858Z"
    },
    "papermill": {
     "duration": 0.016328,
     "end_time": "2024-07-16T12:21:31.919202",
     "exception": false,
     "start_time": "2024-07-16T12:21:31.902874",
     "status": "completed"
    },
    "tags": []
   },
   "outputs": [],
   "source": [
    "#q3.hint()\n",
    "#q3.solution()"
   ]
  },
  {
   "cell_type": "markdown",
   "id": "5f9bf467",
   "metadata": {
    "papermill": {
     "duration": 0.007846,
     "end_time": "2024-07-16T12:21:31.935473",
     "exception": false,
     "start_time": "2024-07-16T12:21:31.927627",
     "status": "completed"
    },
    "tags": []
   },
   "source": [
    "## 4.\n",
    "What are the most expensive wine varieties? Create a variable `sorted_varieties` containing a copy of the dataframe from the previous question where varieties are sorted in descending order based on minimum price, then on maximum price (to break ties)."
   ]
  },
  {
   "cell_type": "code",
   "execution_count": 10,
   "id": "047205b0",
   "metadata": {
    "execution": {
     "iopub.execute_input": "2024-07-16T12:21:31.953943Z",
     "iopub.status.busy": "2024-07-16T12:21:31.953153Z",
     "iopub.status.idle": "2024-07-16T12:21:31.964361Z",
     "shell.execute_reply": "2024-07-16T12:21:31.963333Z"
    },
    "papermill": {
     "duration": 0.0229,
     "end_time": "2024-07-16T12:21:31.966552",
     "exception": false,
     "start_time": "2024-07-16T12:21:31.943652",
     "status": "completed"
    },
    "tags": []
   },
   "outputs": [
    {
     "data": {
      "application/javascript": [
       "parent.postMessage({\"jupyterEvent\": \"custom.exercise_interaction\", \"data\": {\"outcomeType\": 1, \"valueTowardsCompletion\": 0.16666666666666666, \"interactionType\": 1, \"questionType\": 1, \"questionId\": \"4_SortedVarieties\", \"learnToolsVersion\": \"0.3.4\", \"failureMessage\": \"\", \"exceptionClass\": \"\", \"trace\": \"\"}}, \"*\")"
      ],
      "text/plain": [
       "<IPython.core.display.Javascript object>"
      ]
     },
     "metadata": {},
     "output_type": "display_data"
    },
    {
     "data": {
      "text/markdown": [
       "<span style=\"color:#33cc33\">Correct</span>"
      ],
      "text/plain": [
       "Correct"
      ]
     },
     "metadata": {},
     "output_type": "display_data"
    }
   ],
   "source": [
    "sorted_varieties = price_extremes.sort_values(by=['min', 'max'], ascending = False)\n",
    "\n",
    "# Check your answer\n",
    "q4.check()"
   ]
  },
  {
   "cell_type": "code",
   "execution_count": 11,
   "id": "a4c6db26",
   "metadata": {
    "execution": {
     "iopub.execute_input": "2024-07-16T12:21:31.987176Z",
     "iopub.status.busy": "2024-07-16T12:21:31.986200Z",
     "iopub.status.idle": "2024-07-16T12:21:31.990655Z",
     "shell.execute_reply": "2024-07-16T12:21:31.989691Z"
    },
    "papermill": {
     "duration": 0.016477,
     "end_time": "2024-07-16T12:21:31.992880",
     "exception": false,
     "start_time": "2024-07-16T12:21:31.976403",
     "status": "completed"
    },
    "tags": []
   },
   "outputs": [],
   "source": [
    "#q4.hint()\n",
    "#q4.solution()"
   ]
  },
  {
   "cell_type": "markdown",
   "id": "ee9a83ce",
   "metadata": {
    "papermill": {
     "duration": 0.008263,
     "end_time": "2024-07-16T12:21:32.009727",
     "exception": false,
     "start_time": "2024-07-16T12:21:32.001464",
     "status": "completed"
    },
    "tags": []
   },
   "source": [
    "## 5.\n",
    "Create a `Series` whose index is reviewers and whose values is the average review score given out by that reviewer. Hint: you will need the `taster_name` and `points` columns."
   ]
  },
  {
   "cell_type": "code",
   "execution_count": 12,
   "id": "977911d8",
   "metadata": {
    "execution": {
     "iopub.execute_input": "2024-07-16T12:21:32.029219Z",
     "iopub.status.busy": "2024-07-16T12:21:32.028815Z",
     "iopub.status.idle": "2024-07-16T12:21:32.049027Z",
     "shell.execute_reply": "2024-07-16T12:21:32.047579Z"
    },
    "papermill": {
     "duration": 0.033122,
     "end_time": "2024-07-16T12:21:32.051361",
     "exception": false,
     "start_time": "2024-07-16T12:21:32.018239",
     "status": "completed"
    },
    "tags": []
   },
   "outputs": [
    {
     "name": "stdout",
     "output_type": "stream",
     "text": [
      "taster_name\n",
      "Alexander Peartree    85.855422\n",
      "Anna Lee C. Iijima    88.415629\n",
      "                        ...    \n",
      "Susan Kostrzewa       86.609217\n",
      "Virginie Boone        89.213379\n",
      "Name: points, Length: 19, dtype: float64\n"
     ]
    }
   ],
   "source": [
    "reviewer_mean_ratings = reviews.groupby(\"taster_name\").points.mean()\n",
    "print(reviewer_mean_ratings)"
   ]
  },
  {
   "cell_type": "code",
   "execution_count": 13,
   "id": "49a53441",
   "metadata": {
    "execution": {
     "iopub.execute_input": "2024-07-16T12:21:32.070715Z",
     "iopub.status.busy": "2024-07-16T12:21:32.070016Z",
     "iopub.status.idle": "2024-07-16T12:21:32.091056Z",
     "shell.execute_reply": "2024-07-16T12:21:32.089962Z"
    },
    "papermill": {
     "duration": 0.033264,
     "end_time": "2024-07-16T12:21:32.093390",
     "exception": false,
     "start_time": "2024-07-16T12:21:32.060126",
     "status": "completed"
    },
    "tags": []
   },
   "outputs": [
    {
     "data": {
      "application/javascript": [
       "parent.postMessage({\"jupyterEvent\": \"custom.exercise_interaction\", \"data\": {\"outcomeType\": 1, \"valueTowardsCompletion\": 0.16666666666666666, \"interactionType\": 1, \"questionType\": 1, \"questionId\": \"5_ReviewerMeanRatings\", \"learnToolsVersion\": \"0.3.4\", \"failureMessage\": \"\", \"exceptionClass\": \"\", \"trace\": \"\"}}, \"*\")"
      ],
      "text/plain": [
       "<IPython.core.display.Javascript object>"
      ]
     },
     "metadata": {},
     "output_type": "display_data"
    },
    {
     "data": {
      "text/markdown": [
       "<span style=\"color:#33cc33\">Correct</span>"
      ],
      "text/plain": [
       "Correct"
      ]
     },
     "metadata": {},
     "output_type": "display_data"
    }
   ],
   "source": [
    "reviewer_mean_ratings = reviews.groupby(\"taster_name\").points.mean()\n",
    "\n",
    "# Check your answer\n",
    "q5.check()"
   ]
  },
  {
   "cell_type": "code",
   "execution_count": 14,
   "id": "69fa472a",
   "metadata": {
    "execution": {
     "iopub.execute_input": "2024-07-16T12:21:32.113335Z",
     "iopub.status.busy": "2024-07-16T12:21:32.112564Z",
     "iopub.status.idle": "2024-07-16T12:21:32.117431Z",
     "shell.execute_reply": "2024-07-16T12:21:32.116261Z"
    },
    "papermill": {
     "duration": 0.017284,
     "end_time": "2024-07-16T12:21:32.119784",
     "exception": false,
     "start_time": "2024-07-16T12:21:32.102500",
     "status": "completed"
    },
    "tags": []
   },
   "outputs": [],
   "source": [
    "#q5.hint()\n",
    "#q5.solution()"
   ]
  },
  {
   "cell_type": "markdown",
   "id": "7dfc41bc",
   "metadata": {
    "papermill": {
     "duration": 0.008754,
     "end_time": "2024-07-16T12:21:32.137542",
     "exception": false,
     "start_time": "2024-07-16T12:21:32.128788",
     "status": "completed"
    },
    "tags": []
   },
   "source": [
    "Are there significant differences in the average scores assigned by the various reviewers? Run the cell below to use the `describe()` method to see a summary of the range of values."
   ]
  },
  {
   "cell_type": "code",
   "execution_count": 15,
   "id": "dad341d8",
   "metadata": {
    "execution": {
     "iopub.execute_input": "2024-07-16T12:21:32.157064Z",
     "iopub.status.busy": "2024-07-16T12:21:32.156660Z",
     "iopub.status.idle": "2024-07-16T12:21:32.167683Z",
     "shell.execute_reply": "2024-07-16T12:21:32.166456Z"
    },
    "papermill": {
     "duration": 0.023435,
     "end_time": "2024-07-16T12:21:32.169973",
     "exception": false,
     "start_time": "2024-07-16T12:21:32.146538",
     "status": "completed"
    },
    "tags": []
   },
   "outputs": [
    {
     "data": {
      "text/plain": [
       "count    19.000000\n",
       "mean     88.233026\n",
       "           ...    \n",
       "75%      88.975256\n",
       "max      90.562551\n",
       "Name: points, Length: 8, dtype: float64"
      ]
     },
     "execution_count": 15,
     "metadata": {},
     "output_type": "execute_result"
    }
   ],
   "source": [
    "reviewer_mean_ratings.describe()"
   ]
  },
  {
   "cell_type": "markdown",
   "id": "0d2a7b16",
   "metadata": {
    "papermill": {
     "duration": 0.008855,
     "end_time": "2024-07-16T12:21:32.187909",
     "exception": false,
     "start_time": "2024-07-16T12:21:32.179054",
     "status": "completed"
    },
    "tags": []
   },
   "source": [
    "## 6.\n",
    "What combination of countries and varieties are most common? Create a `Series` whose index is a `MultiIndex`of `{country, variety}` pairs. For example, a pinot noir produced in the US should map to `{\"US\", \"Pinot Noir\"}`. Sort the values in the `Series` in descending order based on wine count."
   ]
  },
  {
   "cell_type": "code",
   "execution_count": null,
   "id": "64403d59",
   "metadata": {
    "execution": {
     "iopub.execute_input": "2024-07-16T12:10:56.396307Z",
     "iopub.status.busy": "2024-07-16T12:10:56.395376Z",
     "iopub.status.idle": "2024-07-16T12:10:56.434133Z",
     "shell.execute_reply": "2024-07-16T12:10:56.433099Z",
     "shell.execute_reply.started": "2024-07-16T12:10:56.396268Z"
    },
    "papermill": {
     "duration": 0.008641,
     "end_time": "2024-07-16T12:21:32.205647",
     "exception": false,
     "start_time": "2024-07-16T12:21:32.197006",
     "status": "completed"
    },
    "tags": []
   },
   "outputs": [],
   "source": []
  },
  {
   "cell_type": "code",
   "execution_count": 16,
   "id": "e76208e2",
   "metadata": {
    "execution": {
     "iopub.execute_input": "2024-07-16T12:21:32.225545Z",
     "iopub.status.busy": "2024-07-16T12:21:32.225172Z",
     "iopub.status.idle": "2024-07-16T12:21:32.264149Z",
     "shell.execute_reply": "2024-07-16T12:21:32.263062Z"
    },
    "papermill": {
     "duration": 0.051437,
     "end_time": "2024-07-16T12:21:32.266484",
     "exception": false,
     "start_time": "2024-07-16T12:21:32.215047",
     "status": "completed"
    },
    "tags": []
   },
   "outputs": [
    {
     "name": "stdout",
     "output_type": "stream",
     "text": [
      "country  variety           \n",
      "US       Pinot Noir            9885\n",
      "         Cabernet Sauvignon    7315\n",
      "                               ... \n",
      "Mexico   Rosado                   1\n",
      "Uruguay  White Blend              1\n",
      "Length: 1612, dtype: int64\n"
     ]
    },
    {
     "data": {
      "application/javascript": [
       "parent.postMessage({\"jupyterEvent\": \"custom.exercise_interaction\", \"data\": {\"outcomeType\": 1, \"valueTowardsCompletion\": 0.16666666666666666, \"interactionType\": 1, \"questionType\": 1, \"questionId\": \"6_GroupbyCountryVariety\", \"learnToolsVersion\": \"0.3.4\", \"failureMessage\": \"\", \"exceptionClass\": \"\", \"trace\": \"\"}}, \"*\")"
      ],
      "text/plain": [
       "<IPython.core.display.Javascript object>"
      ]
     },
     "metadata": {},
     "output_type": "display_data"
    },
    {
     "data": {
      "text/markdown": [
       "<span style=\"color:#33cc33\">Correct</span>"
      ],
      "text/plain": [
       "Correct"
      ]
     },
     "metadata": {},
     "output_type": "display_data"
    }
   ],
   "source": [
    "country_variety_counts = reviews.groupby(['country','variety']).size().sort_values(ascending= False)\n",
    "print(country_variety_counts)\n",
    "# Check your answer\n",
    "q6.check()"
   ]
  },
  {
   "cell_type": "code",
   "execution_count": 17,
   "id": "54db73fa",
   "metadata": {
    "execution": {
     "iopub.execute_input": "2024-07-16T12:21:32.287038Z",
     "iopub.status.busy": "2024-07-16T12:21:32.286153Z",
     "iopub.status.idle": "2024-07-16T12:21:32.290513Z",
     "shell.execute_reply": "2024-07-16T12:21:32.289486Z"
    },
    "papermill": {
     "duration": 0.016902,
     "end_time": "2024-07-16T12:21:32.292757",
     "exception": false,
     "start_time": "2024-07-16T12:21:32.275855",
     "status": "completed"
    },
    "tags": []
   },
   "outputs": [],
   "source": [
    "# q6.hint()\n",
    "#q6.solution()"
   ]
  },
  {
   "cell_type": "markdown",
   "id": "89a7b047",
   "metadata": {
    "papermill": {
     "duration": 0.00898,
     "end_time": "2024-07-16T12:21:32.311325",
     "exception": false,
     "start_time": "2024-07-16T12:21:32.302345",
     "status": "completed"
    },
    "tags": []
   },
   "source": [
    "# Keep going\n",
    "\n",
    "Move on to the [**data types and missing data**](https://www.kaggle.com/residentmario/data-types-and-missing-values)."
   ]
  },
  {
   "cell_type": "markdown",
   "id": "12418875",
   "metadata": {
    "papermill": {
     "duration": 0.008996,
     "end_time": "2024-07-16T12:21:32.329606",
     "exception": false,
     "start_time": "2024-07-16T12:21:32.320610",
     "status": "completed"
    },
    "tags": []
   },
   "source": [
    "---\n",
    "\n",
    "\n",
    "\n",
    "\n",
    "*Have questions or comments? Visit the [course discussion forum](https://www.kaggle.com/learn/pandas/discussion) to chat with other learners.*"
   ]
  }
 ],
 "metadata": {
  "kaggle": {
   "accelerator": "none",
   "dataSources": [
    {
     "datasetId": 655,
     "sourceId": 1252,
     "sourceType": "datasetVersion"
    },
    {
     "datasetId": 2321,
     "sourceId": 3919,
     "sourceType": "datasetVersion"
    },
    {
     "datasetId": 2894,
     "sourceId": 4877,
     "sourceType": "datasetVersion"
    },
    {
     "datasetId": 3491,
     "sourceId": 5624,
     "sourceType": "datasetVersion"
    },
    {
     "datasetId": 1442,
     "sourceId": 8172,
     "sourceType": "datasetVersion"
    },
    {
     "datasetId": 9366,
     "sourceId": 13206,
     "sourceType": "datasetVersion"
    },
    {
     "datasetId": 179555,
     "sourceId": 403916,
     "sourceType": "datasetVersion"
    },
    {
     "datasetId": 4549,
     "sourceId": 466349,
     "sourceType": "datasetVersion"
    },
    {
     "datasetId": 2478,
     "sourceId": 1151655,
     "sourceType": "datasetVersion"
    },
    {
     "datasetId": 10128,
     "sourceId": 5438389,
     "sourceType": "datasetVersion"
    }
   ],
   "isGpuEnabled": false,
   "isInternetEnabled": true,
   "language": "python",
   "sourceType": "notebook"
  },
  "kernelspec": {
   "display_name": "Python 3",
   "language": "python",
   "name": "python3"
  },
  "language_info": {
   "codemirror_mode": {
    "name": "ipython",
    "version": 3
   },
   "file_extension": ".py",
   "mimetype": "text/x-python",
   "name": "python",
   "nbconvert_exporter": "python",
   "pygments_lexer": "ipython3",
   "version": "3.10.13"
  },
  "papermill": {
   "default_parameters": {},
   "duration": 8.217603,
   "end_time": "2024-07-16T12:21:32.859800",
   "environment_variables": {},
   "exception": null,
   "input_path": "__notebook__.ipynb",
   "output_path": "__notebook__.ipynb",
   "parameters": {},
   "start_time": "2024-07-16T12:21:24.642197",
   "version": "2.5.0"
  }
 },
 "nbformat": 4,
 "nbformat_minor": 5
}
